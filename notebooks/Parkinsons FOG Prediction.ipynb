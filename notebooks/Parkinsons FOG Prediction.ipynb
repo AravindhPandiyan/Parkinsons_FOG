{
 "cells": [
  {
   "cell_type": "markdown",
   "metadata": {},
   "source": [
    "# 1. Import Library"
   ]
  },
  {
   "cell_type": "code",
   "execution_count": 1,
   "metadata": {
    "ExecuteTime": {
     "end_time": "2023-05-28T05:25:34.659756Z",
     "start_time": "2023-05-28T05:25:31.079674Z"
    },
    "execution": {
     "iopub.execute_input": "2023-05-19T17:21:25.662232Z",
     "iopub.status.busy": "2023-05-19T17:21:25.661336Z",
     "iopub.status.idle": "2023-05-19T17:21:33.854349Z",
     "shell.execute_reply": "2023-05-19T17:21:33.853389Z",
     "shell.execute_reply.started": "2023-05-19T17:21:25.662198Z"
    }
   },
   "outputs": [
    {
     "name": "stderr",
     "output_type": "stream",
     "text": [
      "/home/aravindh/miniconda3/envs/fog_venv/lib/python3.9/site-packages/tensorflow_addons/utils/tfa_eol_msg.py:23: UserWarning: \n",
      "\n",
      "TensorFlow Addons (TFA) has ended development and introduction of new features.\n",
      "TFA has entered a minimal maintenance and release mode until a planned end of life in May 2024.\n",
      "Please modify downstream libraries to take dependencies from other repositories in our TensorFlow community (e.g. Keras, Keras-CV, and Keras-NLP). \n",
      "\n",
      "For more information see: https://github.com/tensorflow/addons/issues/2807 \n",
      "\n",
      "  warnings.warn(\n"
     ]
    }
   ],
   "source": [
    "import dask.array as da\n",
    "import dask.dataframe as dd\n",
    "import math\n",
    "import matplotlib.pyplot as plt\n",
    "import numpy as np\n",
    "import pandas as pd\n",
    "import seaborn as sns\n",
    "from sklearn.metrics import average_precision_score\n",
    "import tensorflow as tf\n",
    "from tensorflow.keras import layers as tkl\n",
    "from tensorflow_addons.callbacks import TimeStopping"
   ]
  },
  {
   "cell_type": "markdown",
   "metadata": {},
   "source": [
    "# 2. Setting Precision"
   ]
  },
  {
   "cell_type": "code",
   "execution_count": 2,
   "metadata": {
    "ExecuteTime": {
     "end_time": "2023-05-28T05:25:34.675779Z",
     "start_time": "2023-05-28T05:25:34.661758Z"
    }
   },
   "outputs": [
    {
     "data": {
      "text/plain": [
       "'float32'"
      ]
     },
     "execution_count": 2,
     "metadata": {},
     "output_type": "execute_result"
    }
   ],
   "source": [
    "tf.keras.backend.set_floatx('float32')\n",
    "tf.keras.backend.floatx()"
   ]
  },
  {
   "cell_type": "markdown",
   "metadata": {},
   "source": [
    "# 4. Data Transformations"
   ]
  },
  {
   "cell_type": "markdown",
   "metadata": {},
   "source": [
    "## a.) Data Selections Transformation"
   ]
  },
  {
   "cell_type": "code",
   "execution_count": 3,
   "metadata": {
    "ExecuteTime": {
     "end_time": "2023-05-28T05:25:34.690779Z",
     "start_time": "2023-05-28T05:25:34.676781Z"
    }
   },
   "outputs": [],
   "source": [
    "def get_stats(data):\n",
    "    temp = data\n",
    "    data['AccV_AccML'] = temp.AccV + temp.AccML\n",
    "    data['row_mean'] = temp.mean(axis=1)\n",
    "    data['Stride'] = temp.AccV + temp.AccML + temp.AccAP\n",
    "    data['row_median'] = temp.map_partitions(lambda df: df.median(axis=1))\n",
    "    return data"
   ]
  },
  {
   "cell_type": "code",
   "execution_count": 4,
   "metadata": {
    "ExecuteTime": {
     "end_time": "2023-05-28T05:25:34.706783Z",
     "start_time": "2023-05-28T05:25:34.692783Z"
    }
   },
   "outputs": [],
   "source": [
    "def data_select(data):\n",
    "    x = data.iloc[:, 1:-3]\n",
    "    y = data.iloc[:, -3:]\n",
    "    x.AccV = x.AccV - x.AccV.shift(1)\n",
    "    x.AccML = x.AccML - x.AccML.shift(1)\n",
    "    x.AccAP = x.AccAP - x.AccAP.shift(1)\n",
    "    x = get_stats(x)\n",
    "    x = x.fillna(0)\n",
    "    return x ,y"
   ]
  },
  {
   "cell_type": "markdown",
   "metadata": {},
   "source": [
    "## b.) Data Structuring Transformation"
   ]
  },
  {
   "cell_type": "code",
   "execution_count": 5,
   "metadata": {
    "ExecuteTime": {
     "end_time": "2023-05-28T05:25:35.672582Z",
     "start_time": "2023-05-28T05:25:35.663579Z"
    }
   },
   "outputs": [],
   "source": [
    "def tensor_restructure(X, Y, win_size=32):\n",
    "    data_img_list = []\n",
    "    data_res_list = []\n",
    "    for part in range(X.npartitions):\n",
    "        df = X.partitions[part].compute()\n",
    "        res_df = Y.partitions[part].compute()\n",
    "\n",
    "        for end in range(win_size, res_df.shape[0]):\n",
    "            sub_res_df = res_df.iloc[end - win_size: end, :]\n",
    "            sub_df = df.iloc[end - win_size: end, :]\n",
    "            data_img_list.append(sub_df.values)\n",
    "            data_res_list.append(sub_res_df.values[1::2])\n",
    "            \n",
    "    data_res_list = np.array(data_res_list)\n",
    "    data_img_list = np.array(data_img_list)\n",
    "    return data_img_list, data_res_list"
   ]
  },
  {
   "cell_type": "markdown",
   "metadata": {},
   "source": [
    "# 5. tdcsfog Data Selection"
   ]
  },
  {
   "cell_type": "markdown",
   "metadata": {},
   "source": [
    "## a.) Setting Data Path"
   ]
  },
  {
   "cell_type": "code",
   "execution_count": 6,
   "metadata": {
    "ExecuteTime": {
     "end_time": "2023-05-28T05:25:40.435083Z",
     "start_time": "2023-05-28T05:25:40.431082Z"
    }
   },
   "outputs": [],
   "source": [
    "main_path = '../data/raw'"
   ]
  },
  {
   "cell_type": "markdown",
   "metadata": {},
   "source": [
    "## b.) Loading tdcsfog metadata"
   ]
  },
  {
   "cell_type": "code",
   "execution_count": 7,
   "metadata": {
    "ExecuteTime": {
     "end_time": "2023-05-28T05:25:40.891105Z",
     "start_time": "2023-05-28T05:25:40.864070Z"
    },
    "execution": {
     "iopub.execute_input": "2023-05-19T13:52:33.767655Z",
     "iopub.status.busy": "2023-05-19T13:52:33.766675Z",
     "iopub.status.idle": "2023-05-19T13:52:33.831760Z",
     "shell.execute_reply": "2023-05-19T13:52:33.830628Z",
     "shell.execute_reply.started": "2023-05-19T13:52:33.767619Z"
    },
    "scrolled": true
   },
   "outputs": [
    {
     "name": "stdout",
     "output_type": "stream",
     "text": [
      "<class 'pandas.core.frame.DataFrame'>\n",
      "RangeIndex: 833 entries, 0 to 832\n",
      "Data columns (total 5 columns):\n",
      " #   Column      Non-Null Count  Dtype \n",
      "---  ------      --------------  ----- \n",
      " 0   Id          833 non-null    object\n",
      " 1   Subject     833 non-null    object\n",
      " 2   Visit       833 non-null    int64 \n",
      " 3   Test        833 non-null    int64 \n",
      " 4   Medication  833 non-null    object\n",
      "dtypes: int64(2), object(3)\n",
      "memory usage: 32.7+ KB\n"
     ]
    }
   ],
   "source": [
    "tdcsfog =  pd.read_csv(main_path + '/tdcsfog_metadata.csv')\n",
    "meta = tdcsfog\n",
    "meta.info()"
   ]
  },
  {
   "cell_type": "markdown",
   "metadata": {},
   "source": [
    "## c.) Loading subject Data"
   ]
  },
  {
   "cell_type": "code",
   "execution_count": 8,
   "metadata": {
    "ExecuteTime": {
     "end_time": "2023-05-28T05:25:41.585691Z",
     "start_time": "2023-05-28T05:25:41.562693Z"
    },
    "execution": {
     "iopub.execute_input": "2023-05-19T13:52:33.835196Z",
     "iopub.status.busy": "2023-05-19T13:52:33.834382Z",
     "iopub.status.idle": "2023-05-19T13:52:33.857291Z",
     "shell.execute_reply": "2023-05-19T13:52:33.856388Z",
     "shell.execute_reply.started": "2023-05-19T13:52:33.835160Z"
    }
   },
   "outputs": [
    {
     "name": "stdout",
     "output_type": "stream",
     "text": [
      "<class 'pandas.core.frame.DataFrame'>\n",
      "RangeIndex: 173 entries, 0 to 172\n",
      "Data columns (total 8 columns):\n",
      " #   Column        Non-Null Count  Dtype  \n",
      "---  ------        --------------  -----  \n",
      " 0   Subject       173 non-null    object \n",
      " 1   Visit         111 non-null    float64\n",
      " 2   Age           173 non-null    int64  \n",
      " 3   Sex           173 non-null    object \n",
      " 4   YearsSinceDx  173 non-null    float64\n",
      " 5   UPDRSIII_On   172 non-null    float64\n",
      " 6   UPDRSIII_Off  132 non-null    float64\n",
      " 7   NFOGQ         173 non-null    int64  \n",
      "dtypes: float64(4), int64(2), object(2)\n",
      "memory usage: 10.9+ KB\n"
     ]
    }
   ],
   "source": [
    "subject = pd.read_csv(main_path + '/subjects.csv')\n",
    "subject.info()"
   ]
  },
  {
   "cell_type": "code",
   "execution_count": 9,
   "metadata": {
    "ExecuteTime": {
     "end_time": "2023-05-28T05:25:41.758720Z",
     "start_time": "2023-05-28T05:25:41.748724Z"
    },
    "execution": {
     "iopub.execute_input": "2023-05-19T13:52:33.859023Z",
     "iopub.status.busy": "2023-05-19T13:52:33.858685Z",
     "iopub.status.idle": "2023-05-19T13:52:33.874405Z",
     "shell.execute_reply": "2023-05-19T13:52:33.873247Z",
     "shell.execute_reply.started": "2023-05-19T13:52:33.858991Z"
    }
   },
   "outputs": [
    {
     "name": "stdout",
     "output_type": "stream",
     "text": [
      "<class 'pandas.core.frame.DataFrame'>\n",
      "RangeIndex: 173 entries, 0 to 172\n",
      "Data columns (total 8 columns):\n",
      " #   Column        Non-Null Count  Dtype  \n",
      "---  ------        --------------  -----  \n",
      " 0   Subject       173 non-null    object \n",
      " 1   Visit         173 non-null    float64\n",
      " 2   Age           173 non-null    int64  \n",
      " 3   Sex           173 non-null    object \n",
      " 4   YearsSinceDx  173 non-null    float64\n",
      " 5   UPDRSIII_On   173 non-null    float64\n",
      " 6   UPDRSIII_Off  173 non-null    float64\n",
      " 7   NFOGQ         173 non-null    int64  \n",
      "dtypes: float64(4), int64(2), object(2)\n",
      "memory usage: 10.9+ KB\n"
     ]
    }
   ],
   "source": [
    "subject = subject.fillna(0)\n",
    "subject.info()"
   ]
  },
  {
   "cell_type": "markdown",
   "metadata": {},
   "source": [
    "## d.) Loading event Data"
   ]
  },
  {
   "cell_type": "code",
   "execution_count": 10,
   "metadata": {
    "ExecuteTime": {
     "end_time": "2023-05-28T05:25:42.106124Z",
     "start_time": "2023-05-28T05:25:42.084124Z"
    },
    "execution": {
     "iopub.execute_input": "2023-05-19T13:52:33.876695Z",
     "iopub.status.busy": "2023-05-19T13:52:33.876287Z",
     "iopub.status.idle": "2023-05-19T13:52:33.900631Z",
     "shell.execute_reply": "2023-05-19T13:52:33.899747Z",
     "shell.execute_reply.started": "2023-05-19T13:52:33.876666Z"
    }
   },
   "outputs": [
    {
     "name": "stdout",
     "output_type": "stream",
     "text": [
      "<class 'pandas.core.frame.DataFrame'>\n",
      "RangeIndex: 3544 entries, 0 to 3543\n",
      "Data columns (total 5 columns):\n",
      " #   Column      Non-Null Count  Dtype  \n",
      "---  ------      --------------  -----  \n",
      " 0   Id          3544 non-null   object \n",
      " 1   Init        3544 non-null   float64\n",
      " 2   Completion  3544 non-null   float64\n",
      " 3   Type        2502 non-null   object \n",
      " 4   Kinetic     2502 non-null   float64\n",
      "dtypes: float64(3), object(2)\n",
      "memory usage: 138.6+ KB\n"
     ]
    }
   ],
   "source": [
    "events = pd.read_csv(main_path + '/events.csv')\n",
    "events.info()"
   ]
  },
  {
   "cell_type": "code",
   "execution_count": 11,
   "metadata": {
    "ExecuteTime": {
     "end_time": "2023-05-28T05:25:42.277991Z",
     "start_time": "2023-05-28T05:25:42.260997Z"
    },
    "execution": {
     "iopub.execute_input": "2023-05-19T13:52:33.903714Z",
     "iopub.status.busy": "2023-05-19T13:52:33.901917Z",
     "iopub.status.idle": "2023-05-19T13:52:33.921475Z",
     "shell.execute_reply": "2023-05-19T13:52:33.920333Z",
     "shell.execute_reply.started": "2023-05-19T13:52:33.903682Z"
    }
   },
   "outputs": [
    {
     "name": "stdout",
     "output_type": "stream",
     "text": [
      "<class 'pandas.core.frame.DataFrame'>\n",
      "Int64Index: 2502 entries, 0 to 3543\n",
      "Data columns (total 6 columns):\n",
      " #   Column          Non-Null Count  Dtype  \n",
      "---  ------          --------------  -----  \n",
      " 0   Id              2502 non-null   object \n",
      " 1   Init            2502 non-null   float64\n",
      " 2   Completion      2502 non-null   float64\n",
      " 3   Type            2502 non-null   object \n",
      " 4   Kinetic         2502 non-null   float64\n",
      " 5   Event_Duration  2502 non-null   float64\n",
      "dtypes: float64(4), object(2)\n",
      "memory usage: 136.8+ KB\n"
     ]
    }
   ],
   "source": [
    "events[\"Event_Duration\"] = events[\"Completion\"] - events[\"Init\"]\n",
    "events = events.dropna()\n",
    "events.info()"
   ]
  },
  {
   "cell_type": "markdown",
   "metadata": {},
   "source": [
    "## e.) Data Merging"
   ]
  },
  {
   "cell_type": "code",
   "execution_count": 12,
   "metadata": {
    "ExecuteTime": {
     "end_time": "2023-05-28T05:25:42.644244Z",
     "start_time": "2023-05-28T05:25:42.628241Z"
    },
    "execution": {
     "iopub.execute_input": "2023-05-19T13:52:33.923411Z",
     "iopub.status.busy": "2023-05-19T13:52:33.923080Z",
     "iopub.status.idle": "2023-05-19T13:52:33.957255Z",
     "shell.execute_reply": "2023-05-19T13:52:33.956355Z",
     "shell.execute_reply.started": "2023-05-19T13:52:33.923382Z"
    }
   },
   "outputs": [
    {
     "data": {
      "text/html": [
       "<div>\n",
       "<style scoped>\n",
       "    .dataframe tbody tr th:only-of-type {\n",
       "        vertical-align: middle;\n",
       "    }\n",
       "\n",
       "    .dataframe tbody tr th {\n",
       "        vertical-align: top;\n",
       "    }\n",
       "\n",
       "    .dataframe thead th {\n",
       "        text-align: right;\n",
       "    }\n",
       "</style>\n",
       "<table border=\"1\" class=\"dataframe\">\n",
       "  <thead>\n",
       "    <tr style=\"text-align: right;\">\n",
       "      <th></th>\n",
       "      <th>Id</th>\n",
       "      <th>Subject</th>\n",
       "      <th>Visit_x</th>\n",
       "      <th>Test</th>\n",
       "      <th>Medication</th>\n",
       "      <th>Visit_y</th>\n",
       "      <th>Age</th>\n",
       "      <th>Sex</th>\n",
       "      <th>YearsSinceDx</th>\n",
       "      <th>UPDRSIII_On</th>\n",
       "      <th>UPDRSIII_Off</th>\n",
       "      <th>NFOGQ</th>\n",
       "    </tr>\n",
       "  </thead>\n",
       "  <tbody>\n",
       "    <tr>\n",
       "      <th>0</th>\n",
       "      <td>003f117e14</td>\n",
       "      <td>4dc2f8</td>\n",
       "      <td>3</td>\n",
       "      <td>2</td>\n",
       "      <td>on</td>\n",
       "      <td>0.0</td>\n",
       "      <td>68</td>\n",
       "      <td>F</td>\n",
       "      <td>9.0</td>\n",
       "      <td>17.0</td>\n",
       "      <td>15.0</td>\n",
       "      <td>15</td>\n",
       "    </tr>\n",
       "    <tr>\n",
       "      <th>1</th>\n",
       "      <td>15671a03ca</td>\n",
       "      <td>4dc2f8</td>\n",
       "      <td>2</td>\n",
       "      <td>2</td>\n",
       "      <td>off</td>\n",
       "      <td>0.0</td>\n",
       "      <td>68</td>\n",
       "      <td>F</td>\n",
       "      <td>9.0</td>\n",
       "      <td>17.0</td>\n",
       "      <td>15.0</td>\n",
       "      <td>15</td>\n",
       "    </tr>\n",
       "    <tr>\n",
       "      <th>2</th>\n",
       "      <td>2ca9bd3533</td>\n",
       "      <td>4dc2f8</td>\n",
       "      <td>2</td>\n",
       "      <td>3</td>\n",
       "      <td>on</td>\n",
       "      <td>0.0</td>\n",
       "      <td>68</td>\n",
       "      <td>F</td>\n",
       "      <td>9.0</td>\n",
       "      <td>17.0</td>\n",
       "      <td>15.0</td>\n",
       "      <td>15</td>\n",
       "    </tr>\n",
       "    <tr>\n",
       "      <th>3</th>\n",
       "      <td>3c535f4851</td>\n",
       "      <td>4dc2f8</td>\n",
       "      <td>4</td>\n",
       "      <td>1</td>\n",
       "      <td>on</td>\n",
       "      <td>0.0</td>\n",
       "      <td>68</td>\n",
       "      <td>F</td>\n",
       "      <td>9.0</td>\n",
       "      <td>17.0</td>\n",
       "      <td>15.0</td>\n",
       "      <td>15</td>\n",
       "    </tr>\n",
       "    <tr>\n",
       "      <th>4</th>\n",
       "      <td>5a321dde31</td>\n",
       "      <td>4dc2f8</td>\n",
       "      <td>2</td>\n",
       "      <td>3</td>\n",
       "      <td>off</td>\n",
       "      <td>0.0</td>\n",
       "      <td>68</td>\n",
       "      <td>F</td>\n",
       "      <td>9.0</td>\n",
       "      <td>17.0</td>\n",
       "      <td>15.0</td>\n",
       "      <td>15</td>\n",
       "    </tr>\n",
       "  </tbody>\n",
       "</table>\n",
       "</div>"
      ],
      "text/plain": [
       "           Id Subject  Visit_x  Test Medication  Visit_y  Age Sex  \\\n",
       "0  003f117e14  4dc2f8        3     2         on      0.0   68   F   \n",
       "1  15671a03ca  4dc2f8        2     2        off      0.0   68   F   \n",
       "2  2ca9bd3533  4dc2f8        2     3         on      0.0   68   F   \n",
       "3  3c535f4851  4dc2f8        4     1         on      0.0   68   F   \n",
       "4  5a321dde31  4dc2f8        2     3        off      0.0   68   F   \n",
       "\n",
       "   YearsSinceDx  UPDRSIII_On  UPDRSIII_Off  NFOGQ  \n",
       "0           9.0         17.0          15.0     15  \n",
       "1           9.0         17.0          15.0     15  \n",
       "2           9.0         17.0          15.0     15  \n",
       "3           9.0         17.0          15.0     15  \n",
       "4           9.0         17.0          15.0     15  "
      ]
     },
     "execution_count": 12,
     "metadata": {},
     "output_type": "execute_result"
    }
   ],
   "source": [
    "meta = pd.merge(meta, subject, how='inner', on='Subject')\n",
    "meta.head()"
   ]
  },
  {
   "cell_type": "code",
   "execution_count": 13,
   "metadata": {
    "ExecuteTime": {
     "end_time": "2023-05-28T05:25:42.848990Z",
     "start_time": "2023-05-28T05:25:42.821991Z"
    },
    "execution": {
     "iopub.execute_input": "2023-05-19T13:52:33.958875Z",
     "iopub.status.busy": "2023-05-19T13:52:33.958558Z",
     "iopub.status.idle": "2023-05-19T13:52:33.991682Z",
     "shell.execute_reply": "2023-05-19T13:52:33.990515Z",
     "shell.execute_reply.started": "2023-05-19T13:52:33.958845Z"
    }
   },
   "outputs": [
    {
     "data": {
      "text/html": [
       "<div>\n",
       "<style scoped>\n",
       "    .dataframe tbody tr th:only-of-type {\n",
       "        vertical-align: middle;\n",
       "    }\n",
       "\n",
       "    .dataframe tbody tr th {\n",
       "        vertical-align: top;\n",
       "    }\n",
       "\n",
       "    .dataframe thead th {\n",
       "        text-align: right;\n",
       "    }\n",
       "</style>\n",
       "<table border=\"1\" class=\"dataframe\">\n",
       "  <thead>\n",
       "    <tr style=\"text-align: right;\">\n",
       "      <th></th>\n",
       "      <th>Id</th>\n",
       "      <th>Subject</th>\n",
       "      <th>Visit_x</th>\n",
       "      <th>Test</th>\n",
       "      <th>Medication</th>\n",
       "      <th>Visit_y</th>\n",
       "      <th>Age</th>\n",
       "      <th>Sex</th>\n",
       "      <th>YearsSinceDx</th>\n",
       "      <th>UPDRSIII_On</th>\n",
       "      <th>UPDRSIII_Off</th>\n",
       "      <th>NFOGQ</th>\n",
       "      <th>Init</th>\n",
       "      <th>Completion</th>\n",
       "      <th>Type</th>\n",
       "      <th>Kinetic</th>\n",
       "      <th>Event_Duration</th>\n",
       "    </tr>\n",
       "  </thead>\n",
       "  <tbody>\n",
       "    <tr>\n",
       "      <th>0</th>\n",
       "      <td>003f117e14</td>\n",
       "      <td>4dc2f8</td>\n",
       "      <td>3</td>\n",
       "      <td>2</td>\n",
       "      <td>on</td>\n",
       "      <td>0.0</td>\n",
       "      <td>68</td>\n",
       "      <td>F</td>\n",
       "      <td>9.0</td>\n",
       "      <td>17.0</td>\n",
       "      <td>15.0</td>\n",
       "      <td>15</td>\n",
       "      <td>8.61312</td>\n",
       "      <td>14.7731</td>\n",
       "      <td>Turn</td>\n",
       "      <td>1.0</td>\n",
       "      <td>6.15998</td>\n",
       "    </tr>\n",
       "    <tr>\n",
       "      <th>1</th>\n",
       "      <td>009ee11563</td>\n",
       "      <td>f62eec</td>\n",
       "      <td>4</td>\n",
       "      <td>2</td>\n",
       "      <td>on</td>\n",
       "      <td>0.0</td>\n",
       "      <td>71</td>\n",
       "      <td>M</td>\n",
       "      <td>10.0</td>\n",
       "      <td>42.0</td>\n",
       "      <td>0.0</td>\n",
       "      <td>24</td>\n",
       "      <td>11.38470</td>\n",
       "      <td>41.1847</td>\n",
       "      <td>Turn</td>\n",
       "      <td>1.0</td>\n",
       "      <td>29.80000</td>\n",
       "    </tr>\n",
       "    <tr>\n",
       "      <th>2</th>\n",
       "      <td>009ee11563</td>\n",
       "      <td>f62eec</td>\n",
       "      <td>4</td>\n",
       "      <td>2</td>\n",
       "      <td>on</td>\n",
       "      <td>0.0</td>\n",
       "      <td>71</td>\n",
       "      <td>M</td>\n",
       "      <td>10.0</td>\n",
       "      <td>42.0</td>\n",
       "      <td>0.0</td>\n",
       "      <td>24</td>\n",
       "      <td>54.66470</td>\n",
       "      <td>58.7847</td>\n",
       "      <td>Turn</td>\n",
       "      <td>1.0</td>\n",
       "      <td>4.12000</td>\n",
       "    </tr>\n",
       "    <tr>\n",
       "      <th>3</th>\n",
       "      <td>011322847a</td>\n",
       "      <td>231c3b</td>\n",
       "      <td>2</td>\n",
       "      <td>2</td>\n",
       "      <td>on</td>\n",
       "      <td>0.0</td>\n",
       "      <td>67</td>\n",
       "      <td>M</td>\n",
       "      <td>12.0</td>\n",
       "      <td>27.0</td>\n",
       "      <td>28.0</td>\n",
       "      <td>19</td>\n",
       "      <td>28.09660</td>\n",
       "      <td>30.2966</td>\n",
       "      <td>Turn</td>\n",
       "      <td>1.0</td>\n",
       "      <td>2.20000</td>\n",
       "    </tr>\n",
       "    <tr>\n",
       "      <th>4</th>\n",
       "      <td>01d0fe7266</td>\n",
       "      <td>231c3b</td>\n",
       "      <td>2</td>\n",
       "      <td>1</td>\n",
       "      <td>off</td>\n",
       "      <td>0.0</td>\n",
       "      <td>67</td>\n",
       "      <td>M</td>\n",
       "      <td>12.0</td>\n",
       "      <td>27.0</td>\n",
       "      <td>28.0</td>\n",
       "      <td>19</td>\n",
       "      <td>30.31840</td>\n",
       "      <td>31.8784</td>\n",
       "      <td>Turn</td>\n",
       "      <td>1.0</td>\n",
       "      <td>1.56000</td>\n",
       "    </tr>\n",
       "  </tbody>\n",
       "</table>\n",
       "</div>"
      ],
      "text/plain": [
       "           Id Subject  Visit_x  Test Medication  Visit_y  Age Sex  \\\n",
       "0  003f117e14  4dc2f8        3     2         on      0.0   68   F   \n",
       "1  009ee11563  f62eec        4     2         on      0.0   71   M   \n",
       "2  009ee11563  f62eec        4     2         on      0.0   71   M   \n",
       "3  011322847a  231c3b        2     2         on      0.0   67   M   \n",
       "4  01d0fe7266  231c3b        2     1        off      0.0   67   M   \n",
       "\n",
       "   YearsSinceDx  UPDRSIII_On  UPDRSIII_Off  NFOGQ      Init  Completion  Type  \\\n",
       "0           9.0         17.0          15.0     15   8.61312     14.7731  Turn   \n",
       "1          10.0         42.0           0.0     24  11.38470     41.1847  Turn   \n",
       "2          10.0         42.0           0.0     24  54.66470     58.7847  Turn   \n",
       "3          12.0         27.0          28.0     19  28.09660     30.2966  Turn   \n",
       "4          12.0         27.0          28.0     19  30.31840     31.8784  Turn   \n",
       "\n",
       "   Kinetic  Event_Duration  \n",
       "0      1.0         6.15998  \n",
       "1      1.0        29.80000  \n",
       "2      1.0         4.12000  \n",
       "3      1.0         2.20000  \n",
       "4      1.0         1.56000  "
      ]
     },
     "execution_count": 13,
     "metadata": {},
     "output_type": "execute_result"
    }
   ],
   "source": [
    "meta = pd.merge(meta, events, how='inner', on='Id')\n",
    "meta = meta.sort_values(['Id', 'Init'], ignore_index=True)\n",
    "meta.head()"
   ]
  },
  {
   "cell_type": "markdown",
   "metadata": {},
   "source": [
    "## f.) Data Stats"
   ]
  },
  {
   "cell_type": "code",
   "execution_count": 14,
   "metadata": {
    "ExecuteTime": {
     "end_time": "2023-05-28T05:25:43.195128Z",
     "start_time": "2023-05-28T05:25:43.182109Z"
    },
    "execution": {
     "iopub.execute_input": "2023-05-19T13:52:33.997054Z",
     "iopub.status.busy": "2023-05-19T13:52:33.996755Z",
     "iopub.status.idle": "2023-05-19T13:52:34.001171Z",
     "shell.execute_reply": "2023-05-19T13:52:34.000056Z",
     "shell.execute_reply.started": "2023-05-19T13:52:33.997030Z"
    },
    "scrolled": true
   },
   "outputs": [],
   "source": [
    "# sns.pairplot(data=meta, hue='Type', height=3)\n",
    "# plt.show()\n",
    "# meta.head()"
   ]
  },
  {
   "cell_type": "markdown",
   "metadata": {},
   "source": [
    "## g.) Data ID Selection"
   ]
  },
  {
   "cell_type": "markdown",
   "metadata": {},
   "source": [
    "### (i) Training IDs"
   ]
  },
  {
   "cell_type": "code",
   "execution_count": 15,
   "metadata": {
    "ExecuteTime": {
     "end_time": "2023-05-28T05:25:43.746924Z",
     "start_time": "2023-05-28T05:25:43.731928Z"
    },
    "execution": {
     "iopub.execute_input": "2023-05-19T13:52:34.003692Z",
     "iopub.status.busy": "2023-05-19T13:52:34.003311Z",
     "iopub.status.idle": "2023-05-19T13:52:34.017541Z",
     "shell.execute_reply": "2023-05-19T13:52:34.016249Z",
     "shell.execute_reply.started": "2023-05-19T13:52:34.003656Z"
    }
   },
   "outputs": [
    {
     "name": "stdout",
     "output_type": "stream",
     "text": [
      "['10e83d6550', '150e8227fc', '19fa6cec5a', '2365c918c9', '35bd42e628', '3ba3590a08', '45a205e6ce', '46300e025f', '6670936848', '692e9e05ef', '6d392739be', '6d9b1fc826', '714dc454eb', '76c7edf878', '7fb91164ad', '81262644e7', '8126370646', '8969714d63', '9b378f315c', '9d6017c17e', '9e6056e271', 'acf784d6d7', 'b670d1cddd', 'babcb58d97', 'be6e0ddcef', 'c36c3860e7', 'c784d2f5d6', 'c8622e0019', 'cd7bca4654', 'd98358a75f', 'e318182fe2', 'eaa4651a87', 'f60bf42bd8', 'ff92d9244d']\n"
     ]
    }
   ],
   "source": [
    "sh_ids = meta.loc[meta.Type == 'StartHesitation', \"Id\"].unique()\n",
    "walk_ids = meta.loc[meta.Type == 'Walking', \"Id\"].unique()\n",
    "sh_ids = [ids for ids in sh_ids if ids in walk_ids]\n",
    "print(sh_ids)"
   ]
  },
  {
   "cell_type": "code",
   "execution_count": 16,
   "metadata": {
    "ExecuteTime": {
     "end_time": "2023-05-28T05:25:43.935624Z",
     "start_time": "2023-05-28T05:25:43.910625Z"
    },
    "execution": {
     "iopub.execute_input": "2023-05-19T13:52:34.021540Z",
     "iopub.status.busy": "2023-05-19T13:52:34.020452Z",
     "iopub.status.idle": "2023-05-19T13:52:34.055768Z",
     "shell.execute_reply": "2023-05-19T13:52:34.054714Z",
     "shell.execute_reply.started": "2023-05-19T13:52:34.021313Z"
    }
   },
   "outputs": [
    {
     "data": {
      "text/html": [
       "<div>\n",
       "<style scoped>\n",
       "    .dataframe tbody tr th:only-of-type {\n",
       "        vertical-align: middle;\n",
       "    }\n",
       "\n",
       "    .dataframe tbody tr th {\n",
       "        vertical-align: top;\n",
       "    }\n",
       "\n",
       "    .dataframe thead th {\n",
       "        text-align: right;\n",
       "    }\n",
       "</style>\n",
       "<table border=\"1\" class=\"dataframe\">\n",
       "  <thead>\n",
       "    <tr style=\"text-align: right;\">\n",
       "      <th></th>\n",
       "      <th>Id</th>\n",
       "      <th>Subject</th>\n",
       "      <th>Visit_x</th>\n",
       "      <th>Test</th>\n",
       "      <th>Medication</th>\n",
       "      <th>Visit_y</th>\n",
       "      <th>Age</th>\n",
       "      <th>Sex</th>\n",
       "      <th>YearsSinceDx</th>\n",
       "      <th>UPDRSIII_On</th>\n",
       "      <th>UPDRSIII_Off</th>\n",
       "      <th>NFOGQ</th>\n",
       "      <th>Init</th>\n",
       "      <th>Completion</th>\n",
       "      <th>Type</th>\n",
       "      <th>Kinetic</th>\n",
       "      <th>Event_Duration</th>\n",
       "      <th>Gap</th>\n",
       "      <th>Gap_Type</th>\n",
       "    </tr>\n",
       "  </thead>\n",
       "  <tbody>\n",
       "    <tr>\n",
       "      <th>0</th>\n",
       "      <td>6670936848</td>\n",
       "      <td>79011a</td>\n",
       "      <td>3</td>\n",
       "      <td>2</td>\n",
       "      <td>on</td>\n",
       "      <td>0.0</td>\n",
       "      <td>73</td>\n",
       "      <td>M</td>\n",
       "      <td>7.0</td>\n",
       "      <td>37.0</td>\n",
       "      <td>46.0</td>\n",
       "      <td>20</td>\n",
       "      <td>3.52688</td>\n",
       "      <td>4.72688</td>\n",
       "      <td>StartHesitation</td>\n",
       "      <td>1.0</td>\n",
       "      <td>1.20</td>\n",
       "      <td>1.58</td>\n",
       "      <td>Walking - StartHesitation</td>\n",
       "    </tr>\n",
       "    <tr>\n",
       "      <th>1</th>\n",
       "      <td>692e9e05ef</td>\n",
       "      <td>4f13b4</td>\n",
       "      <td>2</td>\n",
       "      <td>1</td>\n",
       "      <td>off</td>\n",
       "      <td>0.0</td>\n",
       "      <td>68</td>\n",
       "      <td>F</td>\n",
       "      <td>12.0</td>\n",
       "      <td>22.0</td>\n",
       "      <td>39.0</td>\n",
       "      <td>22</td>\n",
       "      <td>3.60094</td>\n",
       "      <td>6.36094</td>\n",
       "      <td>StartHesitation</td>\n",
       "      <td>1.0</td>\n",
       "      <td>2.76</td>\n",
       "      <td>2.72</td>\n",
       "      <td>Walking - StartHesitation</td>\n",
       "    </tr>\n",
       "    <tr>\n",
       "      <th>2</th>\n",
       "      <td>6d392739be</td>\n",
       "      <td>79011a</td>\n",
       "      <td>2</td>\n",
       "      <td>3</td>\n",
       "      <td>on</td>\n",
       "      <td>0.0</td>\n",
       "      <td>73</td>\n",
       "      <td>M</td>\n",
       "      <td>7.0</td>\n",
       "      <td>37.0</td>\n",
       "      <td>46.0</td>\n",
       "      <td>20</td>\n",
       "      <td>2.40000</td>\n",
       "      <td>6.16000</td>\n",
       "      <td>StartHesitation</td>\n",
       "      <td>1.0</td>\n",
       "      <td>3.76</td>\n",
       "      <td>1.24</td>\n",
       "      <td>Walking - StartHesitation</td>\n",
       "    </tr>\n",
       "    <tr>\n",
       "      <th>3</th>\n",
       "      <td>81262644e7</td>\n",
       "      <td>b19f77</td>\n",
       "      <td>19</td>\n",
       "      <td>1</td>\n",
       "      <td>on</td>\n",
       "      <td>0.0</td>\n",
       "      <td>82</td>\n",
       "      <td>F</td>\n",
       "      <td>15.0</td>\n",
       "      <td>54.0</td>\n",
       "      <td>68.0</td>\n",
       "      <td>21</td>\n",
       "      <td>44.15280</td>\n",
       "      <td>47.85280</td>\n",
       "      <td>StartHesitation</td>\n",
       "      <td>0.0</td>\n",
       "      <td>3.70</td>\n",
       "      <td>5.72</td>\n",
       "      <td>Walking - StartHesitation</td>\n",
       "    </tr>\n",
       "    <tr>\n",
       "      <th>4</th>\n",
       "      <td>9e6056e271</td>\n",
       "      <td>a80ae4</td>\n",
       "      <td>19</td>\n",
       "      <td>1</td>\n",
       "      <td>on</td>\n",
       "      <td>0.0</td>\n",
       "      <td>67</td>\n",
       "      <td>M</td>\n",
       "      <td>5.0</td>\n",
       "      <td>30.0</td>\n",
       "      <td>0.0</td>\n",
       "      <td>24</td>\n",
       "      <td>75.11340</td>\n",
       "      <td>80.87340</td>\n",
       "      <td>StartHesitation</td>\n",
       "      <td>0.0</td>\n",
       "      <td>5.76</td>\n",
       "      <td>2.40</td>\n",
       "      <td>Walking - StartHesitation</td>\n",
       "    </tr>\n",
       "  </tbody>\n",
       "</table>\n",
       "</div>"
      ],
      "text/plain": [
       "           Id Subject  Visit_x  Test Medication  Visit_y  Age Sex  \\\n",
       "0  6670936848  79011a        3     2         on      0.0   73   M   \n",
       "1  692e9e05ef  4f13b4        2     1        off      0.0   68   F   \n",
       "2  6d392739be  79011a        2     3         on      0.0   73   M   \n",
       "3  81262644e7  b19f77       19     1         on      0.0   82   F   \n",
       "4  9e6056e271  a80ae4       19     1         on      0.0   67   M   \n",
       "\n",
       "   YearsSinceDx  UPDRSIII_On  UPDRSIII_Off  NFOGQ      Init  Completion  \\\n",
       "0           7.0         37.0          46.0     20   3.52688     4.72688   \n",
       "1          12.0         22.0          39.0     22   3.60094     6.36094   \n",
       "2           7.0         37.0          46.0     20   2.40000     6.16000   \n",
       "3          15.0         54.0          68.0     21  44.15280    47.85280   \n",
       "4           5.0         30.0           0.0     24  75.11340    80.87340   \n",
       "\n",
       "              Type  Kinetic  Event_Duration   Gap                   Gap_Type  \n",
       "0  StartHesitation      1.0            1.20  1.58  Walking - StartHesitation  \n",
       "1  StartHesitation      1.0            2.76  2.72  Walking - StartHesitation  \n",
       "2  StartHesitation      1.0            3.76  1.24  Walking - StartHesitation  \n",
       "3  StartHesitation      0.0            3.70  5.72  Walking - StartHesitation  \n",
       "4  StartHesitation      0.0            5.76  2.40  Walking - StartHesitation  "
      ]
     },
     "execution_count": 16,
     "metadata": {},
     "output_type": "execute_result"
    }
   ],
   "source": [
    "start = meta.loc[meta.Id.isin(sh_ids)]\n",
    "start = start.loc[start.Type != 'Turn']\n",
    "start[\"Gap\"] = start.Init.shift(-1) - start.Completion\n",
    "start[\"Gap_Type\"]  =  start.Type.shift(-1) + \" - \" + start.Type\n",
    "start = start.loc[(start.Gap < 10) & (start.Gap > 0) & (start.Type == 'StartHesitation') & (start.Gap_Type == \"Walking - StartHesitation\")]\n",
    "start = start.reset_index(drop=True)\n",
    "start.head()"
   ]
  },
  {
   "cell_type": "code",
   "execution_count": 18,
   "metadata": {
    "ExecuteTime": {
     "end_time": "2023-05-28T05:25:44.123845Z",
     "start_time": "2023-05-28T05:25:44.105845Z"
    },
    "execution": {
     "iopub.execute_input": "2023-05-19T13:52:34.057515Z",
     "iopub.status.busy": "2023-05-19T13:52:34.057118Z",
     "iopub.status.idle": "2023-05-19T13:52:34.073560Z",
     "shell.execute_reply": "2023-05-19T13:52:34.072446Z",
     "shell.execute_reply.started": "2023-05-19T13:52:34.057484Z"
    }
   },
   "outputs": [
    {
     "name": "stdout",
     "output_type": "stream",
     "text": [
      "['052a913d06', '07bd2e7fbc', '0b77238a70', '10e83d6550', '146bd622af', '150e8227fc', '19fa6cec5a', '2365c918c9', '2ca9bd3533', '2d481ad987', '311e2722d2', '3291d59f24', '35bd42e628', '3ba3590a08', '3cd4c680cb', '441362cade', '45a205e6ce', '46300e025f', '4ef4e8edef', '4f619d853b', '616371ed4d', '6670936848', '6698568138', '692e9e05ef', '6c39f4d317', '6d392739be', '714dc454eb', '7468af035f', '74de894ecf', '76c7edf878', '7fb91164ad', '81262644e7', '8126370646', '8969714d63', '9166ea61ac', '9b378f315c', '9d6017c17e', '9e0b9001cf', '9e6056e271', '9eed1eba0b', 'acf784d6d7', 'b4368821a4', 'b4a40c9efe', 'b670d1cddd', 'be6e0ddcef', 'c36c3860e7', 'c784d2f5d6', 'c8622e0019', 'ccf39d0b9e', 'cd7bca4654', 'd98358a75f', 'dcc5c991b5', 'e2b8e7b507', 'e318182fe2', 'eaa4651a87', 'eac8e044ca', 'ef4fd1bbb4', 'f60bf42bd8', 'f7993aac2f', 'ff92d9244d']\n"
     ]
    }
   ],
   "source": [
    "turn_ids = [ids for ids in meta.loc[meta.Type == 'Turn', \"Id\"].unique() if ids in walk_ids]\n",
    "print(turn_ids)"
   ]
  },
  {
   "cell_type": "code",
   "execution_count": 19,
   "metadata": {
    "ExecuteTime": {
     "end_time": "2023-05-28T05:25:44.296306Z",
     "start_time": "2023-05-28T05:25:44.273303Z"
    },
    "execution": {
     "iopub.execute_input": "2023-05-19T13:52:34.077123Z",
     "iopub.status.busy": "2023-05-19T13:52:34.076701Z",
     "iopub.status.idle": "2023-05-19T13:52:34.111187Z",
     "shell.execute_reply": "2023-05-19T13:52:34.110189Z",
     "shell.execute_reply.started": "2023-05-19T13:52:34.077080Z"
    }
   },
   "outputs": [
    {
     "data": {
      "text/html": [
       "<div>\n",
       "<style scoped>\n",
       "    .dataframe tbody tr th:only-of-type {\n",
       "        vertical-align: middle;\n",
       "    }\n",
       "\n",
       "    .dataframe tbody tr th {\n",
       "        vertical-align: top;\n",
       "    }\n",
       "\n",
       "    .dataframe thead th {\n",
       "        text-align: right;\n",
       "    }\n",
       "</style>\n",
       "<table border=\"1\" class=\"dataframe\">\n",
       "  <thead>\n",
       "    <tr style=\"text-align: right;\">\n",
       "      <th></th>\n",
       "      <th>Id</th>\n",
       "      <th>Subject</th>\n",
       "      <th>Visit_x</th>\n",
       "      <th>Test</th>\n",
       "      <th>Medication</th>\n",
       "      <th>Visit_y</th>\n",
       "      <th>Age</th>\n",
       "      <th>Sex</th>\n",
       "      <th>YearsSinceDx</th>\n",
       "      <th>UPDRSIII_On</th>\n",
       "      <th>UPDRSIII_Off</th>\n",
       "      <th>NFOGQ</th>\n",
       "      <th>Init</th>\n",
       "      <th>Completion</th>\n",
       "      <th>Type</th>\n",
       "      <th>Kinetic</th>\n",
       "      <th>Event_Duration</th>\n",
       "      <th>Gap</th>\n",
       "      <th>Gap_Type</th>\n",
       "    </tr>\n",
       "  </thead>\n",
       "  <tbody>\n",
       "    <tr>\n",
       "      <th>0</th>\n",
       "      <td>9eed1eba0b</td>\n",
       "      <td>48fd62</td>\n",
       "      <td>13</td>\n",
       "      <td>3</td>\n",
       "      <td>on</td>\n",
       "      <td>0.0</td>\n",
       "      <td>81</td>\n",
       "      <td>M</td>\n",
       "      <td>1.0</td>\n",
       "      <td>42.0</td>\n",
       "      <td>30.0</td>\n",
       "      <td>16</td>\n",
       "      <td>115.4800</td>\n",
       "      <td>121.6400</td>\n",
       "      <td>Turn</td>\n",
       "      <td>1.0</td>\n",
       "      <td>0.235005</td>\n",
       "      <td>7.18</td>\n",
       "      <td>Turn - Walking</td>\n",
       "    </tr>\n",
       "    <tr>\n",
       "      <th>1</th>\n",
       "      <td>c784d2f5d6</td>\n",
       "      <td>2a39f8</td>\n",
       "      <td>2</td>\n",
       "      <td>1</td>\n",
       "      <td>off</td>\n",
       "      <td>0.0</td>\n",
       "      <td>67</td>\n",
       "      <td>M</td>\n",
       "      <td>6.0</td>\n",
       "      <td>16.0</td>\n",
       "      <td>61.0</td>\n",
       "      <td>21</td>\n",
       "      <td>51.8600</td>\n",
       "      <td>57.2200</td>\n",
       "      <td>Turn</td>\n",
       "      <td>1.0</td>\n",
       "      <td>0.564995</td>\n",
       "      <td>3.00</td>\n",
       "      <td>Turn - Walking</td>\n",
       "    </tr>\n",
       "    <tr>\n",
       "      <th>2</th>\n",
       "      <td>0b77238a70</td>\n",
       "      <td>2a39f8</td>\n",
       "      <td>3</td>\n",
       "      <td>1</td>\n",
       "      <td>off</td>\n",
       "      <td>0.0</td>\n",
       "      <td>67</td>\n",
       "      <td>M</td>\n",
       "      <td>6.0</td>\n",
       "      <td>16.0</td>\n",
       "      <td>61.0</td>\n",
       "      <td>21</td>\n",
       "      <td>45.1669</td>\n",
       "      <td>49.8469</td>\n",
       "      <td>Turn</td>\n",
       "      <td>1.0</td>\n",
       "      <td>1.244995</td>\n",
       "      <td>3.48</td>\n",
       "      <td>Turn - Walking</td>\n",
       "    </tr>\n",
       "    <tr>\n",
       "      <th>3</th>\n",
       "      <td>2d481ad987</td>\n",
       "      <td>79011a</td>\n",
       "      <td>2</td>\n",
       "      <td>1</td>\n",
       "      <td>off</td>\n",
       "      <td>0.0</td>\n",
       "      <td>73</td>\n",
       "      <td>M</td>\n",
       "      <td>7.0</td>\n",
       "      <td>37.0</td>\n",
       "      <td>46.0</td>\n",
       "      <td>20</td>\n",
       "      <td>79.4228</td>\n",
       "      <td>86.7428</td>\n",
       "      <td>Turn</td>\n",
       "      <td>1.0</td>\n",
       "      <td>1.395005</td>\n",
       "      <td>3.48</td>\n",
       "      <td>Turn - Walking</td>\n",
       "    </tr>\n",
       "    <tr>\n",
       "      <th>4</th>\n",
       "      <td>3291d59f24</td>\n",
       "      <td>a03db7</td>\n",
       "      <td>5</td>\n",
       "      <td>2</td>\n",
       "      <td>off</td>\n",
       "      <td>0.0</td>\n",
       "      <td>56</td>\n",
       "      <td>M</td>\n",
       "      <td>11.0</td>\n",
       "      <td>27.0</td>\n",
       "      <td>55.0</td>\n",
       "      <td>19</td>\n",
       "      <td>39.0491</td>\n",
       "      <td>42.9291</td>\n",
       "      <td>Turn</td>\n",
       "      <td>1.0</td>\n",
       "      <td>2.044995</td>\n",
       "      <td>4.04</td>\n",
       "      <td>Turn - Walking</td>\n",
       "    </tr>\n",
       "  </tbody>\n",
       "</table>\n",
       "</div>"
      ],
      "text/plain": [
       "           Id Subject  Visit_x  Test Medication  Visit_y  Age Sex  \\\n",
       "0  9eed1eba0b  48fd62       13     3         on      0.0   81   M   \n",
       "1  c784d2f5d6  2a39f8        2     1        off      0.0   67   M   \n",
       "2  0b77238a70  2a39f8        3     1        off      0.0   67   M   \n",
       "3  2d481ad987  79011a        2     1        off      0.0   73   M   \n",
       "4  3291d59f24  a03db7        5     2        off      0.0   56   M   \n",
       "\n",
       "   YearsSinceDx  UPDRSIII_On  UPDRSIII_Off  NFOGQ      Init  Completion  Type  \\\n",
       "0           1.0         42.0          30.0     16  115.4800    121.6400  Turn   \n",
       "1           6.0         16.0          61.0     21   51.8600     57.2200  Turn   \n",
       "2           6.0         16.0          61.0     21   45.1669     49.8469  Turn   \n",
       "3           7.0         37.0          46.0     20   79.4228     86.7428  Turn   \n",
       "4          11.0         27.0          55.0     19   39.0491     42.9291  Turn   \n",
       "\n",
       "   Kinetic  Event_Duration   Gap        Gap_Type  \n",
       "0      1.0        0.235005  7.18  Turn - Walking  \n",
       "1      1.0        0.564995  3.00  Turn - Walking  \n",
       "2      1.0        1.244995  3.48  Turn - Walking  \n",
       "3      1.0        1.395005  3.48  Turn - Walking  \n",
       "4      1.0        2.044995  4.04  Turn - Walking  "
      ]
     },
     "execution_count": 19,
     "metadata": {},
     "output_type": "execute_result"
    }
   ],
   "source": [
    "turn = meta.loc[meta.Id.isin(turn_ids)]\n",
    "turn = turn.loc[turn.Type != 'StartHesitation']\n",
    "turn[\"Gap\"] = (turn.Init - turn.Completion.shift(1)).abs()\n",
    "turn[\"Gap_Type\"]  = turn.Type + \" - \"+ turn.Type.shift(1)\n",
    "turn = turn.loc[(turn.Gap < 10) & (turn.Gap > 0) & (turn.Type == 'Turn') & (turn.Gap_Type.isin([\"Turn - Walking\", \"Walking - Turn\"]))]\n",
    "turn[\"Event_Duration\"] = turn[\"Event_Duration\"].map(lambda x: abs(start[\"Event_Duration\"].mean() - x))\n",
    "turn = turn.sort_values(\"Event_Duration\", ignore_index=True)\n",
    "turn = turn.drop_duplicates(\"Id\")\n",
    "turn = turn.head(8)\n",
    "turn.head()"
   ]
  },
  {
   "cell_type": "code",
   "execution_count": 20,
   "metadata": {
    "ExecuteTime": {
     "end_time": "2023-05-28T05:25:44.469090Z",
     "start_time": "2023-05-28T05:25:44.452089Z"
    },
    "execution": {
     "iopub.execute_input": "2023-05-19T13:52:34.136223Z",
     "iopub.status.busy": "2023-05-19T13:52:34.134916Z",
     "iopub.status.idle": "2023-05-19T13:52:34.165138Z",
     "shell.execute_reply": "2023-05-19T13:52:34.164127Z",
     "shell.execute_reply.started": "2023-05-19T13:52:34.136170Z"
    }
   },
   "outputs": [
    {
     "data": {
      "text/html": [
       "<div>\n",
       "<style scoped>\n",
       "    .dataframe tbody tr th:only-of-type {\n",
       "        vertical-align: middle;\n",
       "    }\n",
       "\n",
       "    .dataframe tbody tr th {\n",
       "        vertical-align: top;\n",
       "    }\n",
       "\n",
       "    .dataframe thead th {\n",
       "        text-align: right;\n",
       "    }\n",
       "</style>\n",
       "<table border=\"1\" class=\"dataframe\">\n",
       "  <thead>\n",
       "    <tr style=\"text-align: right;\">\n",
       "      <th></th>\n",
       "      <th>Id</th>\n",
       "      <th>Subject</th>\n",
       "      <th>Visit_x</th>\n",
       "      <th>Test</th>\n",
       "      <th>Medication</th>\n",
       "      <th>Visit_y</th>\n",
       "      <th>Age</th>\n",
       "      <th>Sex</th>\n",
       "      <th>YearsSinceDx</th>\n",
       "      <th>UPDRSIII_On</th>\n",
       "      <th>UPDRSIII_Off</th>\n",
       "      <th>NFOGQ</th>\n",
       "      <th>Init</th>\n",
       "      <th>Completion</th>\n",
       "      <th>Type</th>\n",
       "      <th>Kinetic</th>\n",
       "      <th>Event_Duration</th>\n",
       "    </tr>\n",
       "  </thead>\n",
       "  <tbody>\n",
       "    <tr>\n",
       "      <th>0</th>\n",
       "      <td>0b77238a70</td>\n",
       "      <td>2a39f8</td>\n",
       "      <td>3</td>\n",
       "      <td>1</td>\n",
       "      <td>off</td>\n",
       "      <td>0.0</td>\n",
       "      <td>67</td>\n",
       "      <td>M</td>\n",
       "      <td>6.0</td>\n",
       "      <td>16.0</td>\n",
       "      <td>61.0</td>\n",
       "      <td>21</td>\n",
       "      <td>8.40687</td>\n",
       "      <td>10.8069</td>\n",
       "      <td>Walking</td>\n",
       "      <td>1.0</td>\n",
       "      <td>2.40003</td>\n",
       "    </tr>\n",
       "    <tr>\n",
       "      <th>1</th>\n",
       "      <td>0b77238a70</td>\n",
       "      <td>2a39f8</td>\n",
       "      <td>3</td>\n",
       "      <td>1</td>\n",
       "      <td>off</td>\n",
       "      <td>0.0</td>\n",
       "      <td>67</td>\n",
       "      <td>M</td>\n",
       "      <td>6.0</td>\n",
       "      <td>16.0</td>\n",
       "      <td>61.0</td>\n",
       "      <td>21</td>\n",
       "      <td>11.92690</td>\n",
       "      <td>30.5269</td>\n",
       "      <td>Turn</td>\n",
       "      <td>1.0</td>\n",
       "      <td>18.60000</td>\n",
       "    </tr>\n",
       "    <tr>\n",
       "      <th>2</th>\n",
       "      <td>0b77238a70</td>\n",
       "      <td>2a39f8</td>\n",
       "      <td>3</td>\n",
       "      <td>1</td>\n",
       "      <td>off</td>\n",
       "      <td>0.0</td>\n",
       "      <td>67</td>\n",
       "      <td>M</td>\n",
       "      <td>6.0</td>\n",
       "      <td>16.0</td>\n",
       "      <td>61.0</td>\n",
       "      <td>21</td>\n",
       "      <td>39.04690</td>\n",
       "      <td>41.6869</td>\n",
       "      <td>Walking</td>\n",
       "      <td>1.0</td>\n",
       "      <td>2.64000</td>\n",
       "    </tr>\n",
       "    <tr>\n",
       "      <th>3</th>\n",
       "      <td>0b77238a70</td>\n",
       "      <td>2a39f8</td>\n",
       "      <td>3</td>\n",
       "      <td>1</td>\n",
       "      <td>off</td>\n",
       "      <td>0.0</td>\n",
       "      <td>67</td>\n",
       "      <td>M</td>\n",
       "      <td>6.0</td>\n",
       "      <td>16.0</td>\n",
       "      <td>61.0</td>\n",
       "      <td>21</td>\n",
       "      <td>45.16690</td>\n",
       "      <td>49.8469</td>\n",
       "      <td>Turn</td>\n",
       "      <td>1.0</td>\n",
       "      <td>4.68000</td>\n",
       "    </tr>\n",
       "    <tr>\n",
       "      <th>4</th>\n",
       "      <td>0b77238a70</td>\n",
       "      <td>2a39f8</td>\n",
       "      <td>3</td>\n",
       "      <td>1</td>\n",
       "      <td>off</td>\n",
       "      <td>0.0</td>\n",
       "      <td>67</td>\n",
       "      <td>M</td>\n",
       "      <td>6.0</td>\n",
       "      <td>16.0</td>\n",
       "      <td>61.0</td>\n",
       "      <td>21</td>\n",
       "      <td>50.84690</td>\n",
       "      <td>54.2069</td>\n",
       "      <td>Walking</td>\n",
       "      <td>1.0</td>\n",
       "      <td>3.36000</td>\n",
       "    </tr>\n",
       "  </tbody>\n",
       "</table>\n",
       "</div>"
      ],
      "text/plain": [
       "           Id Subject  Visit_x  Test Medication  Visit_y  Age Sex  \\\n",
       "0  0b77238a70  2a39f8        3     1        off      0.0   67   M   \n",
       "1  0b77238a70  2a39f8        3     1        off      0.0   67   M   \n",
       "2  0b77238a70  2a39f8        3     1        off      0.0   67   M   \n",
       "3  0b77238a70  2a39f8        3     1        off      0.0   67   M   \n",
       "4  0b77238a70  2a39f8        3     1        off      0.0   67   M   \n",
       "\n",
       "   YearsSinceDx  UPDRSIII_On  UPDRSIII_Off  NFOGQ      Init  Completion  \\\n",
       "0           6.0         16.0          61.0     21   8.40687     10.8069   \n",
       "1           6.0         16.0          61.0     21  11.92690     30.5269   \n",
       "2           6.0         16.0          61.0     21  39.04690     41.6869   \n",
       "3           6.0         16.0          61.0     21  45.16690     49.8469   \n",
       "4           6.0         16.0          61.0     21  50.84690     54.2069   \n",
       "\n",
       "      Type  Kinetic  Event_Duration  \n",
       "0  Walking      1.0         2.40003  \n",
       "1     Turn      1.0        18.60000  \n",
       "2  Walking      1.0         2.64000  \n",
       "3     Turn      1.0         4.68000  \n",
       "4  Walking      1.0         3.36000  "
      ]
     },
     "execution_count": 20,
     "metadata": {},
     "output_type": "execute_result"
    }
   ],
   "source": [
    "processed_ids = meta.loc[meta.Id.isin(start.Id) | meta.Id.isin(turn.Id)]\n",
    "processed_ids = processed_ids.reset_index(drop=True)\n",
    "processed_ids.head()"
   ]
  },
  {
   "cell_type": "code",
   "execution_count": 21,
   "metadata": {
    "ExecuteTime": {
     "end_time": "2023-05-28T05:25:44.674499Z",
     "start_time": "2023-05-28T05:25:44.637496Z"
    },
    "execution": {
     "iopub.execute_input": "2023-05-19T13:52:34.173818Z",
     "iopub.status.busy": "2023-05-19T13:52:34.172984Z",
     "iopub.status.idle": "2023-05-19T13:52:34.375379Z",
     "shell.execute_reply": "2023-05-19T13:52:34.374438Z",
     "shell.execute_reply.started": "2023-05-19T13:52:34.173779Z"
    }
   },
   "outputs": [
    {
     "data": {
      "text/html": [
       "<div>\n",
       "<style scoped>\n",
       "    .dataframe tbody tr th:only-of-type {\n",
       "        vertical-align: middle;\n",
       "    }\n",
       "\n",
       "    .dataframe tbody tr th {\n",
       "        vertical-align: top;\n",
       "    }\n",
       "\n",
       "    .dataframe thead th {\n",
       "        text-align: right;\n",
       "    }\n",
       "</style>\n",
       "<table border=\"1\" class=\"dataframe\">\n",
       "  <thead>\n",
       "    <tr style=\"text-align: right;\">\n",
       "      <th></th>\n",
       "      <th>Time</th>\n",
       "      <th>AccV</th>\n",
       "      <th>AccML</th>\n",
       "      <th>AccAP</th>\n",
       "      <th>StartHesitation</th>\n",
       "      <th>Turn</th>\n",
       "      <th>Walking</th>\n",
       "    </tr>\n",
       "  </thead>\n",
       "  <tbody>\n",
       "    <tr>\n",
       "      <th>0</th>\n",
       "      <td>0</td>\n",
       "      <td>-9.552306</td>\n",
       "      <td>0.467110</td>\n",
       "      <td>-0.661416</td>\n",
       "      <td>0</td>\n",
       "      <td>0</td>\n",
       "      <td>0</td>\n",
       "    </tr>\n",
       "    <tr>\n",
       "      <th>1</th>\n",
       "      <td>1</td>\n",
       "      <td>-9.550023</td>\n",
       "      <td>0.464809</td>\n",
       "      <td>-0.647864</td>\n",
       "      <td>0</td>\n",
       "      <td>0</td>\n",
       "      <td>0</td>\n",
       "    </tr>\n",
       "    <tr>\n",
       "      <th>2</th>\n",
       "      <td>2</td>\n",
       "      <td>-9.551571</td>\n",
       "      <td>0.458210</td>\n",
       "      <td>-0.622576</td>\n",
       "      <td>0</td>\n",
       "      <td>0</td>\n",
       "      <td>0</td>\n",
       "    </tr>\n",
       "    <tr>\n",
       "      <th>3</th>\n",
       "      <td>3</td>\n",
       "      <td>-9.544351</td>\n",
       "      <td>0.455957</td>\n",
       "      <td>-0.635837</td>\n",
       "      <td>0</td>\n",
       "      <td>0</td>\n",
       "      <td>0</td>\n",
       "    </tr>\n",
       "    <tr>\n",
       "      <th>4</th>\n",
       "      <td>4</td>\n",
       "      <td>-9.550601</td>\n",
       "      <td>0.462419</td>\n",
       "      <td>-0.646041</td>\n",
       "      <td>0</td>\n",
       "      <td>0</td>\n",
       "      <td>0</td>\n",
       "    </tr>\n",
       "  </tbody>\n",
       "</table>\n",
       "</div>"
      ],
      "text/plain": [
       "   Time      AccV     AccML     AccAP  StartHesitation  Turn  Walking\n",
       "0     0 -9.552306  0.467110 -0.661416                0     0        0\n",
       "1     1 -9.550023  0.464809 -0.647864                0     0        0\n",
       "2     2 -9.551571  0.458210 -0.622576                0     0        0\n",
       "3     3 -9.544351  0.455957 -0.635837                0     0        0\n",
       "4     4 -9.550601  0.462419 -0.646041                0     0        0"
      ]
     },
     "execution_count": 21,
     "metadata": {},
     "output_type": "execute_result"
    }
   ],
   "source": [
    "data_ids = list(map(lambda x: main_path + '/train/tdcsfog/' + x + '.csv', processed_ids.Id.unique()))\n",
    "selected_data = dd.read_csv(data_ids)\n",
    "selected_data.head()"
   ]
  },
  {
   "cell_type": "code",
   "execution_count": 22,
   "metadata": {
    "ExecuteTime": {
     "end_time": "2023-05-28T05:25:44.878027Z",
     "start_time": "2023-05-28T05:25:44.833968Z"
    },
    "execution": {
     "iopub.execute_input": "2023-05-19T13:52:34.724475Z",
     "iopub.status.busy": "2023-05-19T13:52:34.723989Z",
     "iopub.status.idle": "2023-05-19T13:52:34.828815Z",
     "shell.execute_reply": "2023-05-19T13:52:34.827564Z",
     "shell.execute_reply.started": "2023-05-19T13:52:34.724438Z"
    }
   },
   "outputs": [
    {
     "data": {
      "text/html": [
       "<div>\n",
       "<style scoped>\n",
       "    .dataframe tbody tr th:only-of-type {\n",
       "        vertical-align: middle;\n",
       "    }\n",
       "\n",
       "    .dataframe tbody tr th {\n",
       "        vertical-align: top;\n",
       "    }\n",
       "\n",
       "    .dataframe thead th {\n",
       "        text-align: right;\n",
       "    }\n",
       "</style>\n",
       "<table border=\"1\" class=\"dataframe\">\n",
       "  <thead>\n",
       "    <tr style=\"text-align: right;\">\n",
       "      <th></th>\n",
       "      <th>StartHesitation</th>\n",
       "      <th>Turn</th>\n",
       "      <th>Walking</th>\n",
       "    </tr>\n",
       "  </thead>\n",
       "  <tbody>\n",
       "    <tr>\n",
       "      <th>0</th>\n",
       "      <td>0</td>\n",
       "      <td>0</td>\n",
       "      <td>0</td>\n",
       "    </tr>\n",
       "    <tr>\n",
       "      <th>1</th>\n",
       "      <td>0</td>\n",
       "      <td>0</td>\n",
       "      <td>0</td>\n",
       "    </tr>\n",
       "    <tr>\n",
       "      <th>2</th>\n",
       "      <td>0</td>\n",
       "      <td>0</td>\n",
       "      <td>0</td>\n",
       "    </tr>\n",
       "    <tr>\n",
       "      <th>3</th>\n",
       "      <td>0</td>\n",
       "      <td>0</td>\n",
       "      <td>0</td>\n",
       "    </tr>\n",
       "    <tr>\n",
       "      <th>4</th>\n",
       "      <td>0</td>\n",
       "      <td>0</td>\n",
       "      <td>0</td>\n",
       "    </tr>\n",
       "  </tbody>\n",
       "</table>\n",
       "</div>"
      ],
      "text/plain": [
       "   StartHesitation  Turn  Walking\n",
       "0                0     0        0\n",
       "1                0     0        0\n",
       "2                0     0        0\n",
       "3                0     0        0\n",
       "4                0     0        0"
      ]
     },
     "execution_count": 22,
     "metadata": {},
     "output_type": "execute_result"
    }
   ],
   "source": [
    "x_train, y_train = data_select(selected_data)\n",
    "y_train.head()"
   ]
  },
  {
   "cell_type": "code",
   "execution_count": 23,
   "metadata": {
    "ExecuteTime": {
     "end_time": "2023-05-28T05:25:45.083070Z",
     "start_time": "2023-05-28T05:25:45.044071Z"
    }
   },
   "outputs": [
    {
     "data": {
      "text/html": [
       "<div>\n",
       "<style scoped>\n",
       "    .dataframe tbody tr th:only-of-type {\n",
       "        vertical-align: middle;\n",
       "    }\n",
       "\n",
       "    .dataframe tbody tr th {\n",
       "        vertical-align: top;\n",
       "    }\n",
       "\n",
       "    .dataframe thead th {\n",
       "        text-align: right;\n",
       "    }\n",
       "</style>\n",
       "<table border=\"1\" class=\"dataframe\">\n",
       "  <thead>\n",
       "    <tr style=\"text-align: right;\">\n",
       "      <th></th>\n",
       "      <th>AccV</th>\n",
       "      <th>AccML</th>\n",
       "      <th>AccAP</th>\n",
       "      <th>AccV_AccML</th>\n",
       "      <th>row_mean</th>\n",
       "      <th>Stride</th>\n",
       "      <th>row_median</th>\n",
       "    </tr>\n",
       "  </thead>\n",
       "  <tbody>\n",
       "    <tr>\n",
       "      <th>0</th>\n",
       "      <td>0.000000</td>\n",
       "      <td>0.000000</td>\n",
       "      <td>0.000000</td>\n",
       "      <td>0.000000</td>\n",
       "      <td>0.000000</td>\n",
       "      <td>0.000000</td>\n",
       "      <td>0.000000</td>\n",
       "    </tr>\n",
       "    <tr>\n",
       "      <th>1</th>\n",
       "      <td>0.002283</td>\n",
       "      <td>-0.002300</td>\n",
       "      <td>0.013551</td>\n",
       "      <td>-0.000017</td>\n",
       "      <td>0.003379</td>\n",
       "      <td>0.013534</td>\n",
       "      <td>0.002831</td>\n",
       "    </tr>\n",
       "    <tr>\n",
       "      <th>2</th>\n",
       "      <td>-0.001549</td>\n",
       "      <td>-0.006599</td>\n",
       "      <td>0.025289</td>\n",
       "      <td>-0.008147</td>\n",
       "      <td>0.002248</td>\n",
       "      <td>0.017141</td>\n",
       "      <td>0.000350</td>\n",
       "    </tr>\n",
       "    <tr>\n",
       "      <th>3</th>\n",
       "      <td>0.007220</td>\n",
       "      <td>-0.002253</td>\n",
       "      <td>-0.013261</td>\n",
       "      <td>0.004967</td>\n",
       "      <td>-0.000832</td>\n",
       "      <td>-0.008294</td>\n",
       "      <td>-0.001542</td>\n",
       "    </tr>\n",
       "    <tr>\n",
       "      <th>4</th>\n",
       "      <td>-0.006249</td>\n",
       "      <td>0.006461</td>\n",
       "      <td>-0.010204</td>\n",
       "      <td>0.000212</td>\n",
       "      <td>-0.002445</td>\n",
       "      <td>-0.009993</td>\n",
       "      <td>-0.004347</td>\n",
       "    </tr>\n",
       "  </tbody>\n",
       "</table>\n",
       "</div>"
      ],
      "text/plain": [
       "       AccV     AccML     AccAP  AccV_AccML  row_mean    Stride  row_median\n",
       "0  0.000000  0.000000  0.000000    0.000000  0.000000  0.000000    0.000000\n",
       "1  0.002283 -0.002300  0.013551   -0.000017  0.003379  0.013534    0.002831\n",
       "2 -0.001549 -0.006599  0.025289   -0.008147  0.002248  0.017141    0.000350\n",
       "3  0.007220 -0.002253 -0.013261    0.004967 -0.000832 -0.008294   -0.001542\n",
       "4 -0.006249  0.006461 -0.010204    0.000212 -0.002445 -0.009993   -0.004347"
      ]
     },
     "execution_count": 23,
     "metadata": {},
     "output_type": "execute_result"
    }
   ],
   "source": [
    "x_train.head()"
   ]
  },
  {
   "cell_type": "markdown",
   "metadata": {},
   "source": [
    "### (ii) Testing Validation IDs"
   ]
  },
  {
   "cell_type": "code",
   "execution_count": 24,
   "metadata": {
    "ExecuteTime": {
     "end_time": "2023-05-28T05:25:47.119949Z",
     "start_time": "2023-05-28T05:25:47.101947Z"
    },
    "execution": {
     "iopub.execute_input": "2023-05-19T13:52:34.113064Z",
     "iopub.status.busy": "2023-05-19T13:52:34.112745Z",
     "iopub.status.idle": "2023-05-19T13:52:34.133372Z",
     "shell.execute_reply": "2023-05-19T13:52:34.132174Z",
     "shell.execute_reply.started": "2023-05-19T13:52:34.113033Z"
    }
   },
   "outputs": [
    {
     "name": "stdout",
     "output_type": "stream",
     "text": [
      "['10e83d6550', '150e8227fc', '19fa6cec5a', '2365c918c9', '35bd42e628', '3ba3590a08', '45a205e6ce', '46300e025f', '6670936848', '692e9e05ef', '6d392739be', '714dc454eb', '76c7edf878', '7fb91164ad', '81262644e7', '8126370646', '8969714d63', '9b378f315c', '9d6017c17e', '9e6056e271', 'acf784d6d7', 'b670d1cddd', 'be6e0ddcef', 'c36c3860e7', 'c784d2f5d6', 'c8622e0019', 'cd7bca4654', 'd98358a75f', 'e318182fe2', 'eaa4651a87', 'f60bf42bd8', 'ff92d9244d']\n"
     ]
    }
   ],
   "source": [
    "test_val_ids = [ids for ids in meta.Id.unique() if (ids not in start.Id) and (ids not in turn.Id) and (ids in sh_ids) and (ids in turn_ids) and (ids in walk_ids)]\n",
    "test_val_ids.sort()\n",
    "print(test_val_ids)"
   ]
  },
  {
   "cell_type": "code",
   "execution_count": 25,
   "metadata": {
    "ExecuteTime": {
     "end_time": "2023-05-28T05:25:47.388161Z",
     "start_time": "2023-05-28T05:25:47.312137Z"
    },
    "execution": {
     "iopub.execute_input": "2023-05-19T13:52:34.377710Z",
     "iopub.status.busy": "2023-05-19T13:52:34.377016Z",
     "iopub.status.idle": "2023-05-19T13:52:34.585843Z",
     "shell.execute_reply": "2023-05-19T13:52:34.584848Z",
     "shell.execute_reply.started": "2023-05-19T13:52:34.377674Z"
    }
   },
   "outputs": [
    {
     "data": {
      "text/html": [
       "<div>\n",
       "<style scoped>\n",
       "    .dataframe tbody tr th:only-of-type {\n",
       "        vertical-align: middle;\n",
       "    }\n",
       "\n",
       "    .dataframe tbody tr th {\n",
       "        vertical-align: top;\n",
       "    }\n",
       "\n",
       "    .dataframe thead th {\n",
       "        text-align: right;\n",
       "    }\n",
       "</style>\n",
       "<table border=\"1\" class=\"dataframe\">\n",
       "  <thead>\n",
       "    <tr style=\"text-align: right;\">\n",
       "      <th></th>\n",
       "      <th>Time</th>\n",
       "      <th>AccV</th>\n",
       "      <th>AccML</th>\n",
       "      <th>AccAP</th>\n",
       "      <th>StartHesitation</th>\n",
       "      <th>Turn</th>\n",
       "      <th>Walking</th>\n",
       "    </tr>\n",
       "  </thead>\n",
       "  <tbody>\n",
       "    <tr>\n",
       "      <th>0</th>\n",
       "      <td>0</td>\n",
       "      <td>-9.687117</td>\n",
       "      <td>-1.238445</td>\n",
       "      <td>-1.932528</td>\n",
       "      <td>0</td>\n",
       "      <td>0</td>\n",
       "      <td>0</td>\n",
       "    </tr>\n",
       "    <tr>\n",
       "      <th>1</th>\n",
       "      <td>1</td>\n",
       "      <td>-9.686484</td>\n",
       "      <td>-1.233967</td>\n",
       "      <td>-1.932522</td>\n",
       "      <td>0</td>\n",
       "      <td>0</td>\n",
       "      <td>0</td>\n",
       "    </tr>\n",
       "    <tr>\n",
       "      <th>2</th>\n",
       "      <td>2</td>\n",
       "      <td>-9.683087</td>\n",
       "      <td>-1.236049</td>\n",
       "      <td>-1.936234</td>\n",
       "      <td>0</td>\n",
       "      <td>0</td>\n",
       "      <td>0</td>\n",
       "    </tr>\n",
       "    <tr>\n",
       "      <th>3</th>\n",
       "      <td>3</td>\n",
       "      <td>-9.684048</td>\n",
       "      <td>-1.240766</td>\n",
       "      <td>-1.937733</td>\n",
       "      <td>0</td>\n",
       "      <td>0</td>\n",
       "      <td>0</td>\n",
       "    </tr>\n",
       "    <tr>\n",
       "      <th>4</th>\n",
       "      <td>4</td>\n",
       "      <td>-9.683254</td>\n",
       "      <td>-1.239990</td>\n",
       "      <td>-1.942938</td>\n",
       "      <td>0</td>\n",
       "      <td>0</td>\n",
       "      <td>0</td>\n",
       "    </tr>\n",
       "  </tbody>\n",
       "</table>\n",
       "</div>"
      ],
      "text/plain": [
       "   Time      AccV     AccML     AccAP  StartHesitation  Turn  Walking\n",
       "0     0 -9.687117 -1.238445 -1.932528                0     0        0\n",
       "1     1 -9.686484 -1.233967 -1.932522                0     0        0\n",
       "2     2 -9.683087 -1.236049 -1.936234                0     0        0\n",
       "3     3 -9.684048 -1.240766 -1.937733                0     0        0\n",
       "4     4 -9.683254 -1.239990 -1.942938                0     0        0"
      ]
     },
     "execution_count": 25,
     "metadata": {},
     "output_type": "execute_result"
    }
   ],
   "source": [
    "test_val_ids_path = list(map(lambda x: main_path + '/train/tdcsfog/' + x + '.csv', test_val_ids))\n",
    "test_val_data = dd.read_csv(test_val_ids_path)\n",
    "test_val_data.head()"
   ]
  },
  {
   "cell_type": "code",
   "execution_count": 26,
   "metadata": {
    "ExecuteTime": {
     "end_time": "2023-05-28T05:25:47.577960Z",
     "start_time": "2023-05-28T05:25:47.511945Z"
    },
    "execution": {
     "iopub.execute_input": "2023-05-19T13:52:34.587990Z",
     "iopub.status.busy": "2023-05-19T13:52:34.587358Z",
     "iopub.status.idle": "2023-05-19T13:52:34.631386Z",
     "shell.execute_reply": "2023-05-19T13:52:34.630438Z",
     "shell.execute_reply.started": "2023-05-19T13:52:34.587953Z"
    }
   },
   "outputs": [
    {
     "data": {
      "text/html": [
       "<div>\n",
       "<style scoped>\n",
       "    .dataframe tbody tr th:only-of-type {\n",
       "        vertical-align: middle;\n",
       "    }\n",
       "\n",
       "    .dataframe tbody tr th {\n",
       "        vertical-align: top;\n",
       "    }\n",
       "\n",
       "    .dataframe thead th {\n",
       "        text-align: right;\n",
       "    }\n",
       "</style>\n",
       "<table border=\"1\" class=\"dataframe\">\n",
       "  <thead>\n",
       "    <tr style=\"text-align: right;\">\n",
       "      <th></th>\n",
       "      <th>Time</th>\n",
       "      <th>AccV</th>\n",
       "      <th>AccML</th>\n",
       "      <th>AccAP</th>\n",
       "      <th>StartHesitation</th>\n",
       "      <th>Turn</th>\n",
       "      <th>Walking</th>\n",
       "    </tr>\n",
       "  </thead>\n",
       "  <tbody>\n",
       "    <tr>\n",
       "      <th>0</th>\n",
       "      <td>0</td>\n",
       "      <td>-9.687117</td>\n",
       "      <td>-1.238445</td>\n",
       "      <td>-1.932528</td>\n",
       "      <td>0</td>\n",
       "      <td>0</td>\n",
       "      <td>0</td>\n",
       "    </tr>\n",
       "    <tr>\n",
       "      <th>1</th>\n",
       "      <td>1</td>\n",
       "      <td>-9.686484</td>\n",
       "      <td>-1.233967</td>\n",
       "      <td>-1.932522</td>\n",
       "      <td>0</td>\n",
       "      <td>0</td>\n",
       "      <td>0</td>\n",
       "    </tr>\n",
       "    <tr>\n",
       "      <th>2</th>\n",
       "      <td>2</td>\n",
       "      <td>-9.683087</td>\n",
       "      <td>-1.236049</td>\n",
       "      <td>-1.936234</td>\n",
       "      <td>0</td>\n",
       "      <td>0</td>\n",
       "      <td>0</td>\n",
       "    </tr>\n",
       "    <tr>\n",
       "      <th>3</th>\n",
       "      <td>3</td>\n",
       "      <td>-9.684048</td>\n",
       "      <td>-1.240766</td>\n",
       "      <td>-1.937733</td>\n",
       "      <td>0</td>\n",
       "      <td>0</td>\n",
       "      <td>0</td>\n",
       "    </tr>\n",
       "    <tr>\n",
       "      <th>4</th>\n",
       "      <td>4</td>\n",
       "      <td>-9.683254</td>\n",
       "      <td>-1.239990</td>\n",
       "      <td>-1.942938</td>\n",
       "      <td>0</td>\n",
       "      <td>0</td>\n",
       "      <td>0</td>\n",
       "    </tr>\n",
       "  </tbody>\n",
       "</table>\n",
       "</div>"
      ],
      "text/plain": [
       "   Time      AccV     AccML     AccAP  StartHesitation  Turn  Walking\n",
       "0     0 -9.687117 -1.238445 -1.932528                0     0        0\n",
       "1     1 -9.686484 -1.233967 -1.932522                0     0        0\n",
       "2     2 -9.683087 -1.236049 -1.936234                0     0        0\n",
       "3     3 -9.684048 -1.240766 -1.937733                0     0        0\n",
       "4     4 -9.683254 -1.239990 -1.942938                0     0        0"
      ]
     },
     "execution_count": 26,
     "metadata": {},
     "output_type": "execute_result"
    }
   ],
   "source": [
    "test_data = test_val_data.partitions[:]\n",
    "test_data.head()"
   ]
  },
  {
   "cell_type": "code",
   "execution_count": 27,
   "metadata": {
    "ExecuteTime": {
     "end_time": "2023-05-28T05:25:47.796965Z",
     "start_time": "2023-05-28T05:25:47.709944Z"
    },
    "execution": {
     "iopub.execute_input": "2023-05-19T13:52:34.914995Z",
     "iopub.status.busy": "2023-05-19T13:52:34.914225Z",
     "iopub.status.idle": "2023-05-19T13:52:35.026088Z",
     "shell.execute_reply": "2023-05-19T13:52:35.025181Z",
     "shell.execute_reply.started": "2023-05-19T13:52:34.914957Z"
    }
   },
   "outputs": [
    {
     "data": {
      "text/html": [
       "<div>\n",
       "<style scoped>\n",
       "    .dataframe tbody tr th:only-of-type {\n",
       "        vertical-align: middle;\n",
       "    }\n",
       "\n",
       "    .dataframe tbody tr th {\n",
       "        vertical-align: top;\n",
       "    }\n",
       "\n",
       "    .dataframe thead th {\n",
       "        text-align: right;\n",
       "    }\n",
       "</style>\n",
       "<table border=\"1\" class=\"dataframe\">\n",
       "  <thead>\n",
       "    <tr style=\"text-align: right;\">\n",
       "      <th></th>\n",
       "      <th>StartHesitation</th>\n",
       "      <th>Turn</th>\n",
       "      <th>Walking</th>\n",
       "    </tr>\n",
       "  </thead>\n",
       "  <tbody>\n",
       "    <tr>\n",
       "      <th>0</th>\n",
       "      <td>0</td>\n",
       "      <td>0</td>\n",
       "      <td>0</td>\n",
       "    </tr>\n",
       "    <tr>\n",
       "      <th>1</th>\n",
       "      <td>0</td>\n",
       "      <td>0</td>\n",
       "      <td>0</td>\n",
       "    </tr>\n",
       "    <tr>\n",
       "      <th>2</th>\n",
       "      <td>0</td>\n",
       "      <td>0</td>\n",
       "      <td>0</td>\n",
       "    </tr>\n",
       "    <tr>\n",
       "      <th>3</th>\n",
       "      <td>0</td>\n",
       "      <td>0</td>\n",
       "      <td>0</td>\n",
       "    </tr>\n",
       "    <tr>\n",
       "      <th>4</th>\n",
       "      <td>0</td>\n",
       "      <td>0</td>\n",
       "      <td>0</td>\n",
       "    </tr>\n",
       "  </tbody>\n",
       "</table>\n",
       "</div>"
      ],
      "text/plain": [
       "   StartHesitation  Turn  Walking\n",
       "0                0     0        0\n",
       "1                0     0        0\n",
       "2                0     0        0\n",
       "3                0     0        0\n",
       "4                0     0        0"
      ]
     },
     "execution_count": 27,
     "metadata": {},
     "output_type": "execute_result"
    }
   ],
   "source": [
    "x_test, y_test = data_select(test_data)\n",
    "y_test.head()"
   ]
  },
  {
   "cell_type": "code",
   "execution_count": 28,
   "metadata": {
    "ExecuteTime": {
     "end_time": "2023-05-28T05:25:48.554574Z",
     "start_time": "2023-05-28T05:25:48.460573Z"
    },
    "execution": {
     "iopub.execute_input": "2023-05-19T13:52:35.028220Z",
     "iopub.status.busy": "2023-05-19T13:52:35.027500Z",
     "iopub.status.idle": "2023-05-19T13:52:35.119187Z",
     "shell.execute_reply": "2023-05-19T13:52:35.118234Z",
     "shell.execute_reply.started": "2023-05-19T13:52:35.028170Z"
    }
   },
   "outputs": [
    {
     "data": {
      "text/html": [
       "<div>\n",
       "<style scoped>\n",
       "    .dataframe tbody tr th:only-of-type {\n",
       "        vertical-align: middle;\n",
       "    }\n",
       "\n",
       "    .dataframe tbody tr th {\n",
       "        vertical-align: top;\n",
       "    }\n",
       "\n",
       "    .dataframe thead th {\n",
       "        text-align: right;\n",
       "    }\n",
       "</style>\n",
       "<table border=\"1\" class=\"dataframe\">\n",
       "  <thead>\n",
       "    <tr style=\"text-align: right;\">\n",
       "      <th></th>\n",
       "      <th>AccV</th>\n",
       "      <th>AccML</th>\n",
       "      <th>AccAP</th>\n",
       "      <th>AccV_AccML</th>\n",
       "      <th>row_mean</th>\n",
       "      <th>Stride</th>\n",
       "      <th>row_median</th>\n",
       "    </tr>\n",
       "  </thead>\n",
       "  <tbody>\n",
       "    <tr>\n",
       "      <th>0</th>\n",
       "      <td>0.000000</td>\n",
       "      <td>0.000000</td>\n",
       "      <td>0.000000</td>\n",
       "      <td>0.000000</td>\n",
       "      <td>0.000000</td>\n",
       "      <td>0.000000</td>\n",
       "      <td>0.000000</td>\n",
       "    </tr>\n",
       "    <tr>\n",
       "      <th>1</th>\n",
       "      <td>0.000632</td>\n",
       "      <td>0.004479</td>\n",
       "      <td>0.000006</td>\n",
       "      <td>0.005111</td>\n",
       "      <td>0.002557</td>\n",
       "      <td>0.005117</td>\n",
       "      <td>0.003518</td>\n",
       "    </tr>\n",
       "    <tr>\n",
       "      <th>2</th>\n",
       "      <td>0.003397</td>\n",
       "      <td>-0.002082</td>\n",
       "      <td>-0.003712</td>\n",
       "      <td>0.001315</td>\n",
       "      <td>-0.000271</td>\n",
       "      <td>-0.002397</td>\n",
       "      <td>-0.001176</td>\n",
       "    </tr>\n",
       "    <tr>\n",
       "      <th>3</th>\n",
       "      <td>-0.000961</td>\n",
       "      <td>-0.004717</td>\n",
       "      <td>-0.001499</td>\n",
       "      <td>-0.005678</td>\n",
       "      <td>-0.003214</td>\n",
       "      <td>-0.007177</td>\n",
       "      <td>-0.003965</td>\n",
       "    </tr>\n",
       "    <tr>\n",
       "      <th>4</th>\n",
       "      <td>0.000794</td>\n",
       "      <td>0.000776</td>\n",
       "      <td>-0.005205</td>\n",
       "      <td>0.001570</td>\n",
       "      <td>-0.000516</td>\n",
       "      <td>-0.003635</td>\n",
       "      <td>0.000130</td>\n",
       "    </tr>\n",
       "  </tbody>\n",
       "</table>\n",
       "</div>"
      ],
      "text/plain": [
       "       AccV     AccML     AccAP  AccV_AccML  row_mean    Stride  row_median\n",
       "0  0.000000  0.000000  0.000000    0.000000  0.000000  0.000000    0.000000\n",
       "1  0.000632  0.004479  0.000006    0.005111  0.002557  0.005117    0.003518\n",
       "2  0.003397 -0.002082 -0.003712    0.001315 -0.000271 -0.002397   -0.001176\n",
       "3 -0.000961 -0.004717 -0.001499   -0.005678 -0.003214 -0.007177   -0.003965\n",
       "4  0.000794  0.000776 -0.005205    0.001570 -0.000516 -0.003635    0.000130"
      ]
     },
     "execution_count": 28,
     "metadata": {},
     "output_type": "execute_result"
    }
   ],
   "source": [
    "x_test.head()"
   ]
  },
  {
   "cell_type": "markdown",
   "metadata": {},
   "source": [
    "# 6. Modeling"
   ]
  },
  {
   "cell_type": "markdown",
   "metadata": {},
   "source": [
    "## a.) Setting BATCH_SIZE & EPOCHS"
   ]
  },
  {
   "cell_type": "code",
   "execution_count": 29,
   "metadata": {
    "ExecuteTime": {
     "end_time": "2023-05-28T05:25:50.038539Z",
     "start_time": "2023-05-28T05:25:50.029541Z"
    }
   },
   "outputs": [
    {
     "name": "stdout",
     "output_type": "stream",
     "text": [
      "BATCH_SIZE: 16\n",
      "EPOCH: 100\n",
      "WINDOW: 32\n",
      "INPUT_SIZE: (32, 7)\n"
     ]
    }
   ],
   "source": [
    "# tpu = tf.distribute.cluster_resolver.TPUClusterResolver.connect()\n",
    "# tpu_strategy = tf.distribute.TPUStrategy(tpu)\n",
    "# batch_size = 16 * tpu_strategy.num_replicas_in_sync\n",
    "gpu_count = len(tf.config.list_logical_devices('GPU'))\n",
    "batch_size = 16*gpu_count\n",
    "# batch_size = 32\n",
    "epoch = 100\n",
    "window = 32\n",
    "input_size = (window, x_train.shape[1])\n",
    "print(f'BATCH_SIZE: {batch_size}')\n",
    "print(f'EPOCH: {epoch}')\n",
    "print(f'WINDOW: {window}')\n",
    "print(f'INPUT_SIZE: {input_size}')"
   ]
  },
  {
   "cell_type": "markdown",
   "metadata": {},
   "source": [
    "## b.) Build"
   ]
  },
  {
   "cell_type": "code",
   "execution_count": 30,
   "metadata": {
    "ExecuteTime": {
     "end_time": "2023-05-28T05:25:51.564908Z",
     "start_time": "2023-05-28T05:25:51.545908Z"
    }
   },
   "outputs": [],
   "source": [
    "def convo_layers(ly_in):\n",
    "    cl_in = tkl.Conv1D(filters=128, kernel_size=3, strides=1, activation='relu', name='Convo1D-in')(ly_in)\n",
    "    ap1 = tkl.AveragePooling1D(pool_size=3, strides=1, name='AvgPooling1D-1')(cl_in)\n",
    "    cl2 = tkl.Conv1D(filters=64, kernel_size=2, strides=1, activation='relu', name='Convo1D-2')(ap1)\n",
    "    ap2 = tkl.AveragePooling1D(pool_size=2, strides=1, name='AvgPooling1D-2')(cl2)\n",
    "    cl3 = tkl.Conv1D(filters=32, kernel_size=2, strides=1, activation='relu', name='Convo1D-3')(ap2)\n",
    "    ap3 = tkl.AveragePooling1D(pool_size=2, strides=1, name='AvgPooling1D-3')(cl3)\n",
    "    cl4 = tkl.Conv1D(filters=16, kernel_size=3, strides=1, activation='relu', name='Convo1D-4')(ap3)\n",
    "    ap4 = tkl.AveragePooling1D(pool_size=3, strides=1, name='AvgPooling1D-4')(cl4)\n",
    "    cl5 = tkl.Conv1D(filters=8, kernel_size=3, strides=1, activation='relu', name='Convo1D-5')(ap4)\n",
    "    ap_out = tkl.AveragePooling1D(pool_size=3, strides=1, name='AvgPooling1D-out')(cl5)\n",
    "    return ap_out"
   ]
  },
  {
   "cell_type": "code",
   "execution_count": 31,
   "metadata": {
    "ExecuteTime": {
     "end_time": "2023-05-28T05:26:08.425745Z",
     "start_time": "2023-05-28T05:26:08.406747Z"
    }
   },
   "outputs": [],
   "source": [
    "def dense_layers(ly_in):\n",
    "    dl_in = tkl.Dense(units=256, activation='relu', name='Ann-in')(ly_in)\n",
    "    dp_1 = tkl.Dropout(0.2, name='Drop-Ann-1')(dl_in)\n",
    "    dl_2 = tkl.Dense(units=169, activation='relu', name='Ann-2')(dp_1)\n",
    "    dp_2 = tkl.Dropout(0.2, name='Drop-Ann-2')(dl_2)\n",
    "    dl_3 = tkl.Dense(units=121, activation='relu', name='Ann-3')(dp_2)\n",
    "    dp_3 = tkl.Dropout(0.2, name='Drop-Ann-3')(dl_3)\n",
    "    dl_4 = tkl.Dense(units=49, activation='relu', name='Ann-4')(dp_3)\n",
    "    dp_4 = tkl.Dropout(0.2, name='Drop-Ann-4')(dl_4)\n",
    "    dl_5 = tkl.Dense(units=25, activation='relu', name='Ann-5')(dp_4)\n",
    "    dp_5 = tkl.Dropout(0.2, name='Drop-Ann-5')(dl_5)\n",
    "    dl_6 = tkl.Dense(units=9, activation='relu', name='Ann-6')(dp_5)\n",
    "    dp_out = tkl.Dropout(0.2, name='Drop-Ann-6')(dl_6)\n",
    "    return dp_out\n",
    "    "
   ]
  },
  {
   "cell_type": "code",
   "execution_count": 32,
   "metadata": {
    "ExecuteTime": {
     "end_time": "2023-05-28T05:26:10.339909Z",
     "start_time": "2023-05-28T05:26:10.320880Z"
    }
   },
   "outputs": [],
   "source": [
    "def build_tdcsfog_model(adapt_data, size):\n",
    "    normalizer = tkl.Normalization()\n",
    "    normalizer.adapt(adapt_data)\n",
    "    in_ly = tf.keras.Input(shape=size)\n",
    "    norm_out = normalizer(in_ly)\n",
    "    bl_1 = convo_layers(norm_out)\n",
    "    bl_2 = dense_layers(bl_1)\n",
    "    out_ly = tkl.Dense(units=3, activation='softmax', name='Ann-out')(bl_2)\n",
    "    ly_rs = tkl.Reshape((16, 3), name='Ann-out-shaper')(out_ly)\n",
    "    return in_ly, ly_rs"
   ]
  },
  {
   "cell_type": "markdown",
   "metadata": {},
   "source": [
    "## c.) Compilation"
   ]
  },
  {
   "cell_type": "code",
   "execution_count": 34,
   "metadata": {
    "ExecuteTime": {
     "end_time": "2023-05-28T05:27:18.124881Z",
     "start_time": "2023-05-28T05:26:15.528680Z"
    },
    "code_folding": [],
    "execution": {
     "iopub.execute_input": "2023-05-19T15:06:00.257805Z",
     "iopub.status.busy": "2023-05-19T15:06:00.256223Z",
     "iopub.status.idle": "2023-05-19T15:06:00.651623Z",
     "shell.execute_reply": "2023-05-19T15:06:00.650771Z",
     "shell.execute_reply.started": "2023-05-19T15:06:00.257761Z"
    },
    "scrolled": true
   },
   "outputs": [
    {
     "name": "stdout",
     "output_type": "stream",
     "text": [
      "x_train: (241899, 32, 7)\n",
      "y_train: (241899, 16, 3)\n",
      "*************************\n",
      "x_test: (912475, 32, 7)\n",
      "y_test: (912475, 16, 3)\n",
      "*************************\n",
      "Model: \"model\"\n",
      "_________________________________________________________________\n",
      " Layer (type)                Output Shape              Param #   \n",
      "=================================================================\n",
      " input_1 (InputLayer)        [(None, 32, 7)]           0         \n",
      "                                                                 \n",
      " normalization (Normalizatio  (None, 32, 7)            15        \n",
      " n)                                                              \n",
      "                                                                 \n",
      " Convo1D-in (Conv1D)         (None, 30, 128)           2816      \n",
      "                                                                 \n",
      " AvgPooling1D-1 (AveragePool  (None, 28, 128)          0         \n",
      " ing1D)                                                          \n",
      "                                                                 \n",
      " Convo1D-2 (Conv1D)          (None, 27, 64)            16448     \n",
      "                                                                 \n",
      " AvgPooling1D-2 (AveragePool  (None, 26, 64)           0         \n",
      " ing1D)                                                          \n",
      "                                                                 \n",
      " Convo1D-3 (Conv1D)          (None, 25, 32)            4128      \n",
      "                                                                 \n",
      " AvgPooling1D-3 (AveragePool  (None, 24, 32)           0         \n",
      " ing1D)                                                          \n",
      "                                                                 \n",
      " Convo1D-4 (Conv1D)          (None, 22, 16)            1552      \n",
      "                                                                 \n",
      " AvgPooling1D-4 (AveragePool  (None, 20, 16)           0         \n",
      " ing1D)                                                          \n",
      "                                                                 \n",
      " Convo1D-5 (Conv1D)          (None, 18, 8)             392       \n",
      "                                                                 \n",
      " AvgPooling1D-out (AveragePo  (None, 16, 8)            0         \n",
      " oling1D)                                                        \n",
      "                                                                 \n",
      " Ann-in (Dense)              (None, 16, 256)           2304      \n",
      "                                                                 \n",
      " Drop-Ann-1 (Dropout)        (None, 16, 256)           0         \n",
      "                                                                 \n",
      " Ann-2 (Dense)               (None, 16, 169)           43433     \n",
      "                                                                 \n",
      " Drop-Ann-2 (Dropout)        (None, 16, 169)           0         \n",
      "                                                                 \n",
      " Ann-3 (Dense)               (None, 16, 121)           20570     \n",
      "                                                                 \n",
      " Drop-Ann-3 (Dropout)        (None, 16, 121)           0         \n",
      "                                                                 \n",
      " Ann-4 (Dense)               (None, 16, 49)            5978      \n",
      "                                                                 \n",
      " Drop-Ann-4 (Dropout)        (None, 16, 49)            0         \n",
      "                                                                 \n",
      " Ann-5 (Dense)               (None, 16, 25)            1250      \n",
      "                                                                 \n",
      " Drop-Ann-5 (Dropout)        (None, 16, 25)            0         \n",
      "                                                                 \n",
      " Ann-6 (Dense)               (None, 16, 9)             234       \n",
      "                                                                 \n",
      " Drop-Ann-6 (Dropout)        (None, 16, 9)             0         \n",
      "                                                                 \n",
      " Ann-out (Dense)             (None, 16, 3)             30        \n",
      "                                                                 \n",
      " Ann-out-shaper (Reshape)    (None, 16, 3)             0         \n",
      "                                                                 \n",
      "=================================================================\n",
      "Total params: 99,150\n",
      "Trainable params: 99,135\n",
      "Non-trainable params: 15\n",
      "_________________________________________________________________\n"
     ]
    }
   ],
   "source": [
    "# with tpu_strategy.scope():\n",
    "\n",
    "# mirrored_strategy = tf.distribute.MirroredStrategy()\n",
    "\n",
    "# with mirrored_strategy.scope():\n",
    "    \n",
    "with tf.device(\"/GPU:0\"):\n",
    "\n",
    "    x_train, y_train = tensor_restructure(x_train, y_train)\n",
    "    print(f'x_train: {x_train.shape}')\n",
    "    print(f'y_train: {y_train.shape}')\n",
    "    print('*************************')\n",
    "    x_test, y_test = tensor_restructure(x_test, y_test)\n",
    "    print(f'x_test: {x_test.shape}')\n",
    "    print(f'y_test: {y_test.shape}')\n",
    "    print('*************************')\n",
    "    precision = tf.keras.metrics.Precision()\n",
    "    model_in, model_out = build_tdcsfog_model(x_train, input_size)\n",
    "    tdcsfog_model = tf.keras.Model(inputs=model_in, outputs=model_out)\n",
    "    \n",
    "\n",
    "tdcsfog_model.compile(optimizer='adam', loss='categorical_crossentropy', metrics=['accuracy', precision])\n",
    "tdcsfog_model.summary()"
   ]
  },
  {
   "cell_type": "markdown",
   "metadata": {},
   "source": [
    "## d.) Fitting"
   ]
  },
  {
   "cell_type": "code",
   "execution_count": 35,
   "metadata": {
    "ExecuteTime": {
     "end_time": "2023-05-28T05:19:45.782607Z",
     "start_time": "2023-05-28T03:42:08.013078Z"
    },
    "scrolled": true
   },
   "outputs": [
    {
     "name": "stdout",
     "output_type": "stream",
     "text": [
      "Epoch 1/100\n",
      "15119/15119 [==============================] - 306s 20ms/step - loss: 0.5190 - accuracy: 0.5352 - precision: 0.5379 - val_loss: 0.7978 - val_accuracy: 0.5350 - val_precision: 0.5454\n",
      "Epoch 2/100\n",
      "15119/15119 [==============================] - 289s 19ms/step - loss: 0.4817 - accuracy: 0.5569 - precision: 0.5577 - val_loss: 0.8430 - val_accuracy: 0.5497 - val_precision: 0.5499\n",
      "Epoch 3/100\n",
      "15119/15119 [==============================] - 288s 19ms/step - loss: 0.4553 - accuracy: 0.5758 - precision: 0.5703 - val_loss: 0.8691 - val_accuracy: 0.5458 - val_precision: 0.5631\n",
      "Epoch 4/100\n",
      "15119/15119 [==============================] - 311s 21ms/step - loss: 0.4325 - accuracy: 0.5879 - precision: 0.5819 - val_loss: 0.9170 - val_accuracy: 0.5543 - val_precision: 0.5561\n",
      "Epoch 5/100\n",
      "15119/15119 [==============================] - 300s 20ms/step - loss: 0.4107 - accuracy: 0.5991 - precision: 0.5910 - val_loss: 0.9974 - val_accuracy: 0.5539 - val_precision: 0.5543\n",
      "Epoch 6/100\n",
      " 6338/15119 [===========>..................] - ETA: 1:09 - loss: 0.3957 - accuracy: 0.6077 - precision: 0.5964"
     ]
    },
    {
     "ename": "KeyboardInterrupt",
     "evalue": "",
     "output_type": "error",
     "traceback": [
      "\u001b[0;31m---------------------------------------------------------------------------\u001b[0m",
      "\u001b[0;31mKeyboardInterrupt\u001b[0m                         Traceback (most recent call last)",
      "Cell \u001b[0;32mIn[35], line 6\u001b[0m\n\u001b[1;32m      4\u001b[0m time_stopping \u001b[38;5;241m=\u001b[39m TimeStopping(seconds\u001b[38;5;241m=\u001b[39m\u001b[38;5;241m60\u001b[39m\u001b[38;5;241m*\u001b[39m\u001b[38;5;241m60\u001b[39m\u001b[38;5;241m*\u001b[39m\u001b[38;5;241m4\u001b[39m, verbose\u001b[38;5;241m=\u001b[39m\u001b[38;5;241m1\u001b[39m)\n\u001b[1;32m      5\u001b[0m early_stopping_callback \u001b[38;5;241m=\u001b[39m tf\u001b[38;5;241m.\u001b[39mkeras\u001b[38;5;241m.\u001b[39mcallbacks\u001b[38;5;241m.\u001b[39mEarlyStopping(monitor\u001b[38;5;241m=\u001b[39m\u001b[38;5;124m\"\u001b[39m\u001b[38;5;124mval_precision\u001b[39m\u001b[38;5;124m\"\u001b[39m, patience\u001b[38;5;241m=\u001b[39m\u001b[38;5;241m11\u001b[39m, mode\u001b[38;5;241m=\u001b[39m\u001b[38;5;124m'\u001b[39m\u001b[38;5;124mmax\u001b[39m\u001b[38;5;124m'\u001b[39m, restore_best_weights\u001b[38;5;241m=\u001b[39m\u001b[38;5;28;01mTrue\u001b[39;00m)\n\u001b[0;32m----> 6\u001b[0m \u001b[43mtdcsfog_model\u001b[49m\u001b[43m\\\u001b[49m\n\u001b[1;32m      7\u001b[0m \u001b[38;5;241;43m.\u001b[39;49m\u001b[43mfit\u001b[49m\u001b[43m(\u001b[49m\u001b[43mx_train\u001b[49m\u001b[43m,\u001b[49m\u001b[43m \u001b[49m\u001b[43my_train\u001b[49m\u001b[43m,\u001b[49m\u001b[43m \u001b[49m\u001b[43mvalidation_data\u001b[49m\u001b[38;5;241;43m=\u001b[39;49m\u001b[43m(\u001b[49m\u001b[43mx_test\u001b[49m\u001b[43m,\u001b[49m\u001b[43m \u001b[49m\u001b[43my_test\u001b[49m\u001b[43m)\u001b[49m\u001b[43m,\u001b[49m\u001b[43m \u001b[49m\u001b[43mbatch_size\u001b[49m\u001b[38;5;241;43m=\u001b[39;49m\u001b[43mbatch_size\u001b[49m\u001b[43m,\u001b[49m\u001b[43m \u001b[49m\u001b[43mepochs\u001b[49m\u001b[38;5;241;43m=\u001b[39;49m\u001b[43mepoch\u001b[49m\u001b[43m,\u001b[49m\u001b[43m \u001b[49m\u001b[43mcallbacks\u001b[49m\u001b[38;5;241;43m=\u001b[39;49m\u001b[43m[\u001b[49m\u001b[43msave_check_point\u001b[49m\u001b[43m,\u001b[49m\u001b[43m \u001b[49m\u001b[43mtensorboard_callback\u001b[49m\u001b[43m,\u001b[49m\u001b[43m \u001b[49m\u001b[43mtime_stopping\u001b[49m\u001b[43m,\u001b[49m\u001b[43m \u001b[49m\u001b[43mearly_stopping_callback\u001b[49m\u001b[43m]\u001b[49m\u001b[43m,\u001b[49m\u001b[43m \u001b[49m\u001b[43mverbose\u001b[49m\u001b[38;5;241;43m=\u001b[39;49m\u001b[38;5;241;43m1\u001b[39;49m\u001b[43m)\u001b[49m\n",
      "File \u001b[0;32m~/miniconda3/envs/fog_venv/lib/python3.9/site-packages/keras/utils/traceback_utils.py:65\u001b[0m, in \u001b[0;36mfilter_traceback.<locals>.error_handler\u001b[0;34m(*args, **kwargs)\u001b[0m\n\u001b[1;32m     63\u001b[0m filtered_tb \u001b[38;5;241m=\u001b[39m \u001b[38;5;28;01mNone\u001b[39;00m\n\u001b[1;32m     64\u001b[0m \u001b[38;5;28;01mtry\u001b[39;00m:\n\u001b[0;32m---> 65\u001b[0m     \u001b[38;5;28;01mreturn\u001b[39;00m \u001b[43mfn\u001b[49m\u001b[43m(\u001b[49m\u001b[38;5;241;43m*\u001b[39;49m\u001b[43margs\u001b[49m\u001b[43m,\u001b[49m\u001b[43m \u001b[49m\u001b[38;5;241;43m*\u001b[39;49m\u001b[38;5;241;43m*\u001b[39;49m\u001b[43mkwargs\u001b[49m\u001b[43m)\u001b[49m\n\u001b[1;32m     66\u001b[0m \u001b[38;5;28;01mexcept\u001b[39;00m \u001b[38;5;167;01mException\u001b[39;00m \u001b[38;5;28;01mas\u001b[39;00m e:\n\u001b[1;32m     67\u001b[0m     filtered_tb \u001b[38;5;241m=\u001b[39m _process_traceback_frames(e\u001b[38;5;241m.\u001b[39m__traceback__)\n",
      "File \u001b[0;32m~/miniconda3/envs/fog_venv/lib/python3.9/site-packages/keras/engine/training.py:1685\u001b[0m, in \u001b[0;36mModel.fit\u001b[0;34m(self, x, y, batch_size, epochs, verbose, callbacks, validation_split, validation_data, shuffle, class_weight, sample_weight, initial_epoch, steps_per_epoch, validation_steps, validation_batch_size, validation_freq, max_queue_size, workers, use_multiprocessing)\u001b[0m\n\u001b[1;32m   1677\u001b[0m \u001b[38;5;28;01mwith\u001b[39;00m tf\u001b[38;5;241m.\u001b[39mprofiler\u001b[38;5;241m.\u001b[39mexperimental\u001b[38;5;241m.\u001b[39mTrace(\n\u001b[1;32m   1678\u001b[0m     \u001b[38;5;124m\"\u001b[39m\u001b[38;5;124mtrain\u001b[39m\u001b[38;5;124m\"\u001b[39m,\n\u001b[1;32m   1679\u001b[0m     epoch_num\u001b[38;5;241m=\u001b[39mepoch,\n\u001b[0;32m   (...)\u001b[0m\n\u001b[1;32m   1682\u001b[0m     _r\u001b[38;5;241m=\u001b[39m\u001b[38;5;241m1\u001b[39m,\n\u001b[1;32m   1683\u001b[0m ):\n\u001b[1;32m   1684\u001b[0m     callbacks\u001b[38;5;241m.\u001b[39mon_train_batch_begin(step)\n\u001b[0;32m-> 1685\u001b[0m     tmp_logs \u001b[38;5;241m=\u001b[39m \u001b[38;5;28;43mself\u001b[39;49m\u001b[38;5;241;43m.\u001b[39;49m\u001b[43mtrain_function\u001b[49m\u001b[43m(\u001b[49m\u001b[43miterator\u001b[49m\u001b[43m)\u001b[49m\n\u001b[1;32m   1686\u001b[0m     \u001b[38;5;28;01mif\u001b[39;00m data_handler\u001b[38;5;241m.\u001b[39mshould_sync:\n\u001b[1;32m   1687\u001b[0m         context\u001b[38;5;241m.\u001b[39masync_wait()\n",
      "File \u001b[0;32m~/miniconda3/envs/fog_venv/lib/python3.9/site-packages/tensorflow/python/util/traceback_utils.py:150\u001b[0m, in \u001b[0;36mfilter_traceback.<locals>.error_handler\u001b[0;34m(*args, **kwargs)\u001b[0m\n\u001b[1;32m    148\u001b[0m filtered_tb \u001b[38;5;241m=\u001b[39m \u001b[38;5;28;01mNone\u001b[39;00m\n\u001b[1;32m    149\u001b[0m \u001b[38;5;28;01mtry\u001b[39;00m:\n\u001b[0;32m--> 150\u001b[0m   \u001b[38;5;28;01mreturn\u001b[39;00m \u001b[43mfn\u001b[49m\u001b[43m(\u001b[49m\u001b[38;5;241;43m*\u001b[39;49m\u001b[43margs\u001b[49m\u001b[43m,\u001b[49m\u001b[43m \u001b[49m\u001b[38;5;241;43m*\u001b[39;49m\u001b[38;5;241;43m*\u001b[39;49m\u001b[43mkwargs\u001b[49m\u001b[43m)\u001b[49m\n\u001b[1;32m    151\u001b[0m \u001b[38;5;28;01mexcept\u001b[39;00m \u001b[38;5;167;01mException\u001b[39;00m \u001b[38;5;28;01mas\u001b[39;00m e:\n\u001b[1;32m    152\u001b[0m   filtered_tb \u001b[38;5;241m=\u001b[39m _process_traceback_frames(e\u001b[38;5;241m.\u001b[39m__traceback__)\n",
      "File \u001b[0;32m~/miniconda3/envs/fog_venv/lib/python3.9/site-packages/tensorflow/python/eager/polymorphic_function/polymorphic_function.py:894\u001b[0m, in \u001b[0;36mFunction.__call__\u001b[0;34m(self, *args, **kwds)\u001b[0m\n\u001b[1;32m    891\u001b[0m compiler \u001b[38;5;241m=\u001b[39m \u001b[38;5;124m\"\u001b[39m\u001b[38;5;124mxla\u001b[39m\u001b[38;5;124m\"\u001b[39m \u001b[38;5;28;01mif\u001b[39;00m \u001b[38;5;28mself\u001b[39m\u001b[38;5;241m.\u001b[39m_jit_compile \u001b[38;5;28;01melse\u001b[39;00m \u001b[38;5;124m\"\u001b[39m\u001b[38;5;124mnonXla\u001b[39m\u001b[38;5;124m\"\u001b[39m\n\u001b[1;32m    893\u001b[0m \u001b[38;5;28;01mwith\u001b[39;00m OptionalXlaContext(\u001b[38;5;28mself\u001b[39m\u001b[38;5;241m.\u001b[39m_jit_compile):\n\u001b[0;32m--> 894\u001b[0m   result \u001b[38;5;241m=\u001b[39m \u001b[38;5;28;43mself\u001b[39;49m\u001b[38;5;241;43m.\u001b[39;49m\u001b[43m_call\u001b[49m\u001b[43m(\u001b[49m\u001b[38;5;241;43m*\u001b[39;49m\u001b[43margs\u001b[49m\u001b[43m,\u001b[49m\u001b[43m \u001b[49m\u001b[38;5;241;43m*\u001b[39;49m\u001b[38;5;241;43m*\u001b[39;49m\u001b[43mkwds\u001b[49m\u001b[43m)\u001b[49m\n\u001b[1;32m    896\u001b[0m new_tracing_count \u001b[38;5;241m=\u001b[39m \u001b[38;5;28mself\u001b[39m\u001b[38;5;241m.\u001b[39mexperimental_get_tracing_count()\n\u001b[1;32m    897\u001b[0m without_tracing \u001b[38;5;241m=\u001b[39m (tracing_count \u001b[38;5;241m==\u001b[39m new_tracing_count)\n",
      "File \u001b[0;32m~/miniconda3/envs/fog_venv/lib/python3.9/site-packages/tensorflow/python/eager/polymorphic_function/polymorphic_function.py:926\u001b[0m, in \u001b[0;36mFunction._call\u001b[0;34m(self, *args, **kwds)\u001b[0m\n\u001b[1;32m    923\u001b[0m   \u001b[38;5;28mself\u001b[39m\u001b[38;5;241m.\u001b[39m_lock\u001b[38;5;241m.\u001b[39mrelease()\n\u001b[1;32m    924\u001b[0m   \u001b[38;5;66;03m# In this case we have created variables on the first call, so we run the\u001b[39;00m\n\u001b[1;32m    925\u001b[0m   \u001b[38;5;66;03m# defunned version which is guaranteed to never create variables.\u001b[39;00m\n\u001b[0;32m--> 926\u001b[0m   \u001b[38;5;28;01mreturn\u001b[39;00m \u001b[38;5;28;43mself\u001b[39;49m\u001b[38;5;241;43m.\u001b[39;49m\u001b[43m_no_variable_creation_fn\u001b[49m\u001b[43m(\u001b[49m\u001b[38;5;241;43m*\u001b[39;49m\u001b[43margs\u001b[49m\u001b[43m,\u001b[49m\u001b[43m \u001b[49m\u001b[38;5;241;43m*\u001b[39;49m\u001b[38;5;241;43m*\u001b[39;49m\u001b[43mkwds\u001b[49m\u001b[43m)\u001b[49m  \u001b[38;5;66;03m# pylint: disable=not-callable\u001b[39;00m\n\u001b[1;32m    927\u001b[0m \u001b[38;5;28;01melif\u001b[39;00m \u001b[38;5;28mself\u001b[39m\u001b[38;5;241m.\u001b[39m_variable_creation_fn \u001b[38;5;129;01mis\u001b[39;00m \u001b[38;5;129;01mnot\u001b[39;00m \u001b[38;5;28;01mNone\u001b[39;00m:\n\u001b[1;32m    928\u001b[0m   \u001b[38;5;66;03m# Release the lock early so that multiple threads can perform the call\u001b[39;00m\n\u001b[1;32m    929\u001b[0m   \u001b[38;5;66;03m# in parallel.\u001b[39;00m\n\u001b[1;32m    930\u001b[0m   \u001b[38;5;28mself\u001b[39m\u001b[38;5;241m.\u001b[39m_lock\u001b[38;5;241m.\u001b[39mrelease()\n",
      "File \u001b[0;32m~/miniconda3/envs/fog_venv/lib/python3.9/site-packages/tensorflow/python/eager/polymorphic_function/tracing_compiler.py:143\u001b[0m, in \u001b[0;36mTracingCompiler.__call__\u001b[0;34m(self, *args, **kwargs)\u001b[0m\n\u001b[1;32m    140\u001b[0m \u001b[38;5;28;01mwith\u001b[39;00m \u001b[38;5;28mself\u001b[39m\u001b[38;5;241m.\u001b[39m_lock:\n\u001b[1;32m    141\u001b[0m   (concrete_function,\n\u001b[1;32m    142\u001b[0m    filtered_flat_args) \u001b[38;5;241m=\u001b[39m \u001b[38;5;28mself\u001b[39m\u001b[38;5;241m.\u001b[39m_maybe_define_function(args, kwargs)\n\u001b[0;32m--> 143\u001b[0m \u001b[38;5;28;01mreturn\u001b[39;00m \u001b[43mconcrete_function\u001b[49m\u001b[38;5;241;43m.\u001b[39;49m\u001b[43m_call_flat\u001b[49m\u001b[43m(\u001b[49m\n\u001b[1;32m    144\u001b[0m \u001b[43m    \u001b[49m\u001b[43mfiltered_flat_args\u001b[49m\u001b[43m,\u001b[49m\u001b[43m \u001b[49m\u001b[43mcaptured_inputs\u001b[49m\u001b[38;5;241;43m=\u001b[39;49m\u001b[43mconcrete_function\u001b[49m\u001b[38;5;241;43m.\u001b[39;49m\u001b[43mcaptured_inputs\u001b[49m\u001b[43m)\u001b[49m\n",
      "File \u001b[0;32m~/miniconda3/envs/fog_venv/lib/python3.9/site-packages/tensorflow/python/eager/polymorphic_function/monomorphic_function.py:1757\u001b[0m, in \u001b[0;36mConcreteFunction._call_flat\u001b[0;34m(self, args, captured_inputs, cancellation_manager)\u001b[0m\n\u001b[1;32m   1753\u001b[0m possible_gradient_type \u001b[38;5;241m=\u001b[39m gradients_util\u001b[38;5;241m.\u001b[39mPossibleTapeGradientTypes(args)\n\u001b[1;32m   1754\u001b[0m \u001b[38;5;28;01mif\u001b[39;00m (possible_gradient_type \u001b[38;5;241m==\u001b[39m gradients_util\u001b[38;5;241m.\u001b[39mPOSSIBLE_GRADIENT_TYPES_NONE\n\u001b[1;32m   1755\u001b[0m     \u001b[38;5;129;01mand\u001b[39;00m executing_eagerly):\n\u001b[1;32m   1756\u001b[0m   \u001b[38;5;66;03m# No tape is watching; skip to running the function.\u001b[39;00m\n\u001b[0;32m-> 1757\u001b[0m   \u001b[38;5;28;01mreturn\u001b[39;00m \u001b[38;5;28mself\u001b[39m\u001b[38;5;241m.\u001b[39m_build_call_outputs(\u001b[38;5;28;43mself\u001b[39;49m\u001b[38;5;241;43m.\u001b[39;49m\u001b[43m_inference_function\u001b[49m\u001b[38;5;241;43m.\u001b[39;49m\u001b[43mcall\u001b[49m\u001b[43m(\u001b[49m\n\u001b[1;32m   1758\u001b[0m \u001b[43m      \u001b[49m\u001b[43mctx\u001b[49m\u001b[43m,\u001b[49m\u001b[43m \u001b[49m\u001b[43margs\u001b[49m\u001b[43m,\u001b[49m\u001b[43m \u001b[49m\u001b[43mcancellation_manager\u001b[49m\u001b[38;5;241;43m=\u001b[39;49m\u001b[43mcancellation_manager\u001b[49m\u001b[43m)\u001b[49m)\n\u001b[1;32m   1759\u001b[0m forward_backward \u001b[38;5;241m=\u001b[39m \u001b[38;5;28mself\u001b[39m\u001b[38;5;241m.\u001b[39m_select_forward_and_backward_functions(\n\u001b[1;32m   1760\u001b[0m     args,\n\u001b[1;32m   1761\u001b[0m     possible_gradient_type,\n\u001b[1;32m   1762\u001b[0m     executing_eagerly)\n\u001b[1;32m   1763\u001b[0m forward_function, args_with_tangents \u001b[38;5;241m=\u001b[39m forward_backward\u001b[38;5;241m.\u001b[39mforward()\n",
      "File \u001b[0;32m~/miniconda3/envs/fog_venv/lib/python3.9/site-packages/tensorflow/python/eager/polymorphic_function/monomorphic_function.py:381\u001b[0m, in \u001b[0;36m_EagerDefinedFunction.call\u001b[0;34m(self, ctx, args, cancellation_manager)\u001b[0m\n\u001b[1;32m    379\u001b[0m \u001b[38;5;28;01mwith\u001b[39;00m _InterpolateFunctionError(\u001b[38;5;28mself\u001b[39m):\n\u001b[1;32m    380\u001b[0m   \u001b[38;5;28;01mif\u001b[39;00m cancellation_manager \u001b[38;5;129;01mis\u001b[39;00m \u001b[38;5;28;01mNone\u001b[39;00m:\n\u001b[0;32m--> 381\u001b[0m     outputs \u001b[38;5;241m=\u001b[39m \u001b[43mexecute\u001b[49m\u001b[38;5;241;43m.\u001b[39;49m\u001b[43mexecute\u001b[49m\u001b[43m(\u001b[49m\n\u001b[1;32m    382\u001b[0m \u001b[43m        \u001b[49m\u001b[38;5;28;43mstr\u001b[39;49m\u001b[43m(\u001b[49m\u001b[38;5;28;43mself\u001b[39;49m\u001b[38;5;241;43m.\u001b[39;49m\u001b[43msignature\u001b[49m\u001b[38;5;241;43m.\u001b[39;49m\u001b[43mname\u001b[49m\u001b[43m)\u001b[49m\u001b[43m,\u001b[49m\n\u001b[1;32m    383\u001b[0m \u001b[43m        \u001b[49m\u001b[43mnum_outputs\u001b[49m\u001b[38;5;241;43m=\u001b[39;49m\u001b[38;5;28;43mself\u001b[39;49m\u001b[38;5;241;43m.\u001b[39;49m\u001b[43m_num_outputs\u001b[49m\u001b[43m,\u001b[49m\n\u001b[1;32m    384\u001b[0m \u001b[43m        \u001b[49m\u001b[43minputs\u001b[49m\u001b[38;5;241;43m=\u001b[39;49m\u001b[43margs\u001b[49m\u001b[43m,\u001b[49m\n\u001b[1;32m    385\u001b[0m \u001b[43m        \u001b[49m\u001b[43mattrs\u001b[49m\u001b[38;5;241;43m=\u001b[39;49m\u001b[43mattrs\u001b[49m\u001b[43m,\u001b[49m\n\u001b[1;32m    386\u001b[0m \u001b[43m        \u001b[49m\u001b[43mctx\u001b[49m\u001b[38;5;241;43m=\u001b[39;49m\u001b[43mctx\u001b[49m\u001b[43m)\u001b[49m\n\u001b[1;32m    387\u001b[0m   \u001b[38;5;28;01melse\u001b[39;00m:\n\u001b[1;32m    388\u001b[0m     outputs \u001b[38;5;241m=\u001b[39m execute\u001b[38;5;241m.\u001b[39mexecute_with_cancellation(\n\u001b[1;32m    389\u001b[0m         \u001b[38;5;28mstr\u001b[39m(\u001b[38;5;28mself\u001b[39m\u001b[38;5;241m.\u001b[39msignature\u001b[38;5;241m.\u001b[39mname),\n\u001b[1;32m    390\u001b[0m         num_outputs\u001b[38;5;241m=\u001b[39m\u001b[38;5;28mself\u001b[39m\u001b[38;5;241m.\u001b[39m_num_outputs,\n\u001b[0;32m   (...)\u001b[0m\n\u001b[1;32m    393\u001b[0m         ctx\u001b[38;5;241m=\u001b[39mctx,\n\u001b[1;32m    394\u001b[0m         cancellation_manager\u001b[38;5;241m=\u001b[39mcancellation_manager)\n",
      "File \u001b[0;32m~/miniconda3/envs/fog_venv/lib/python3.9/site-packages/tensorflow/python/eager/execute.py:52\u001b[0m, in \u001b[0;36mquick_execute\u001b[0;34m(op_name, num_outputs, inputs, attrs, ctx, name)\u001b[0m\n\u001b[1;32m     50\u001b[0m \u001b[38;5;28;01mtry\u001b[39;00m:\n\u001b[1;32m     51\u001b[0m   ctx\u001b[38;5;241m.\u001b[39mensure_initialized()\n\u001b[0;32m---> 52\u001b[0m   tensors \u001b[38;5;241m=\u001b[39m \u001b[43mpywrap_tfe\u001b[49m\u001b[38;5;241;43m.\u001b[39;49m\u001b[43mTFE_Py_Execute\u001b[49m\u001b[43m(\u001b[49m\u001b[43mctx\u001b[49m\u001b[38;5;241;43m.\u001b[39;49m\u001b[43m_handle\u001b[49m\u001b[43m,\u001b[49m\u001b[43m \u001b[49m\u001b[43mdevice_name\u001b[49m\u001b[43m,\u001b[49m\u001b[43m \u001b[49m\u001b[43mop_name\u001b[49m\u001b[43m,\u001b[49m\n\u001b[1;32m     53\u001b[0m \u001b[43m                                      \u001b[49m\u001b[43minputs\u001b[49m\u001b[43m,\u001b[49m\u001b[43m \u001b[49m\u001b[43mattrs\u001b[49m\u001b[43m,\u001b[49m\u001b[43m \u001b[49m\u001b[43mnum_outputs\u001b[49m\u001b[43m)\u001b[49m\n\u001b[1;32m     54\u001b[0m \u001b[38;5;28;01mexcept\u001b[39;00m core\u001b[38;5;241m.\u001b[39m_NotOkStatusException \u001b[38;5;28;01mas\u001b[39;00m e:\n\u001b[1;32m     55\u001b[0m   \u001b[38;5;28;01mif\u001b[39;00m name \u001b[38;5;129;01mis\u001b[39;00m \u001b[38;5;129;01mnot\u001b[39;00m \u001b[38;5;28;01mNone\u001b[39;00m:\n",
      "\u001b[0;31mKeyboardInterrupt\u001b[0m: "
     ]
    }
   ],
   "source": [
    "log_dir = '../logs/avg_pooling_6'\n",
    "save_check_point = tf.keras.callbacks.ModelCheckpoint(\"../models/ModelCheckpoint/\", monitor=\"val_precision\", save_best_only=True, mode='max', save_weights_only=True)\n",
    "tensorboard_callback = tf.keras.callbacks.TensorBoard(log_dir=log_dir, histogram_freq=1, write_graph=True, write_images=True)\n",
    "time_stopping = TimeStopping(seconds=60*60*4, verbose=1)\n",
    "early_stopping_callback = tf.keras.callbacks.EarlyStopping(monitor=\"val_precision\", patience=11, mode='max', restore_best_weights=True)\n",
    "tdcsfog_model\\\n",
    ".fit(x_train, y_train, validation_data=(x_test, y_test), batch_size=batch_size, epochs=epoch, callbacks=[save_check_point, tensorboard_callback, time_stopping, early_stopping_callback], verbose=1)"
   ]
  },
  {
   "cell_type": "markdown",
   "metadata": {},
   "source": [
    "## e.) Loading"
   ]
  },
  {
   "cell_type": "code",
   "execution_count": 34,
   "metadata": {
    "ExecuteTime": {
     "end_time": "2023-05-28T05:19:45.861457Z",
     "start_time": "2023-05-28T05:19:45.784558Z"
    }
   },
   "outputs": [
    {
     "data": {
      "text/plain": [
       "<tensorflow.python.checkpoint.checkpoint.CheckpointLoadStatus at 0x1588bd71608>"
      ]
     },
     "execution_count": 34,
     "metadata": {},
     "output_type": "execute_result"
    }
   ],
   "source": [
    "tdcsfog_model.load_weights('../models/ModelCheckpoint/')"
   ]
  },
  {
   "cell_type": "markdown",
   "metadata": {},
   "source": [
    "## f.) Metrics"
   ]
  },
  {
   "cell_type": "code",
   "execution_count": 35,
   "metadata": {
    "ExecuteTime": {
     "end_time": "2023-05-28T05:34:35.042207Z",
     "start_time": "2023-05-28T05:27:45.871392Z"
    }
   },
   "outputs": [
    {
     "name": "stdout",
     "output_type": "stream",
     "text": [
      "28515/28515 [==============================] - 222s 8ms/step - loss: 1.3885 - accuracy: 0.5555 - precision: 0.5565\n",
      "28515/28515 [==============================] - 169s 6ms/step\n"
     ]
    }
   ],
   "source": [
    "metric_val = tdcsfog_model.evaluate(x_test, y_test, batch_size)\n",
    "y_proba = tdcsfog_model.predict(x_test)\n",
    "y_proba = tf.reshape(y_proba, (-1, 3))\n",
    "y_test = tf.reshape(y_test, (-1, 3))"
   ]
  },
  {
   "cell_type": "code",
   "execution_count": 36,
   "metadata": {
    "ExecuteTime": {
     "end_time": "2023-05-28T05:34:41.669146Z",
     "start_time": "2023-05-28T05:34:35.043747Z"
    }
   },
   "outputs": [
    {
     "name": "stdout",
     "output_type": "stream",
     "text": [
      "Loss: 1.3885159492492676\n",
      "Accuracy: 0.5555139183998108\n",
      "Precision: 0.5564548969268799\n",
      "Mean Average Precision(mAP): 0.3923160660511402\n"
     ]
    }
   ],
   "source": [
    "metric_val.append(np.mean(average_precision_score(y_test, y_proba, average=None)))\n",
    "print(f'Loss: {metric_val[0]}')\n",
    "print(f'Accuracy: {metric_val[1]}')\n",
    "print(f'Precision: {metric_val[2]}')\n",
    "print(f'Mean Average Precision(mAP): {metric_val[3]}')"
   ]
  },
  {
   "cell_type": "markdown",
   "metadata": {},
   "source": [
    "## g.) Saving"
   ]
  },
  {
   "cell_type": "code",
   "execution_count": 36,
   "metadata": {
    "ExecuteTime": {
     "end_time": "2023-05-28T05:23:52.637042Z",
     "start_time": "2023-05-28T05:23:49.807984Z"
    }
   },
   "outputs": [
    {
     "name": "stderr",
     "output_type": "stream",
     "text": [
      "WARNING:absl:Found untraced functions such as _jit_compiled_convolution_op, _jit_compiled_convolution_op, _jit_compiled_convolution_op, _jit_compiled_convolution_op, _jit_compiled_convolution_op while saving (showing 5 of 5). These functions will not be directly callable after loading.\n"
     ]
    },
    {
     "name": "stdout",
     "output_type": "stream",
     "text": [
      "INFO:tensorflow:Assets written to: ../models/tdcsfog_model_avg_pooling_6\\assets\n"
     ]
    },
    {
     "name": "stderr",
     "output_type": "stream",
     "text": [
      "INFO:tensorflow:Assets written to: ../models/tdcsfog_model_avg_pooling_6\\assets\n"
     ]
    }
   ],
   "source": [
    "tdcsfog_model.save(\"../models/tdcsfog_model_avg_pooling_6\")"
   ]
  }
 ],
 "metadata": {
  "kernelspec": {
   "display_name": "Python 3",
   "language": "python",
   "name": "python3"
  },
  "language_info": {
   "codemirror_mode": {
    "name": "ipython",
    "version": 3
   },
   "file_extension": ".py",
   "mimetype": "text/x-python",
   "name": "python",
   "nbconvert_exporter": "python",
   "pygments_lexer": "ipython3",
   "version": "3.9.16"
  }
 },
 "nbformat": 4,
 "nbformat_minor": 4
}
