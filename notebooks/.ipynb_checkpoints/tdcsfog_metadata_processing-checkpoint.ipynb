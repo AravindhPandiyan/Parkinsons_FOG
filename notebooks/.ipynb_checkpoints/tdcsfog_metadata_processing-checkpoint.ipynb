{
 "cells": [
  {
   "cell_type": "markdown",
   "metadata": {},
   "source": [
    "# 1. Import Library"
   ]
  },
  {
   "cell_type": "code",
   "execution_count": null,
   "metadata": {
    "ExecuteTime": {
     "end_time": "2023-05-28T05:25:34.659756Z",
     "start_time": "2023-05-28T05:25:31.079674Z"
    },
    "execution": {
     "iopub.execute_input": "2023-05-19T17:21:25.662232Z",
     "iopub.status.busy": "2023-05-19T17:21:25.661336Z",
     "iopub.status.idle": "2023-05-19T17:21:33.854349Z",
     "shell.execute_reply": "2023-05-19T17:21:33.853389Z",
     "shell.execute_reply.started": "2023-05-19T17:21:25.662198Z"
    }
   },
   "outputs": [],
   "source": [
    "import matplotlib.pyplot as plt\n",
    "import numpy as np\n",
    "import pandas as pd\n",
    "import seaborn as sns"
   ]
  },
  {
   "cell_type": "markdown",
   "metadata": {},
   "source": [
    "# 2. tdcsfog Data Selection"
   ]
  },
  {
   "cell_type": "markdown",
   "metadata": {},
   "source": [
    "## a.) Setting Data Path"
   ]
  },
  {
   "cell_type": "code",
   "execution_count": null,
   "metadata": {
    "ExecuteTime": {
     "end_time": "2023-05-28T05:25:40.435083Z",
     "start_time": "2023-05-28T05:25:40.431082Z"
    }
   },
   "outputs": [],
   "source": [
    "main_path = '../data'"
   ]
  },
  {
   "cell_type": "markdown",
   "metadata": {},
   "source": [
    "## b.) Loading tdcsfog metadata"
   ]
  },
  {
   "cell_type": "code",
   "execution_count": null,
   "metadata": {
    "ExecuteTime": {
     "end_time": "2023-05-28T05:25:40.891105Z",
     "start_time": "2023-05-28T05:25:40.864070Z"
    },
    "execution": {
     "iopub.execute_input": "2023-05-19T13:52:33.767655Z",
     "iopub.status.busy": "2023-05-19T13:52:33.766675Z",
     "iopub.status.idle": "2023-05-19T13:52:33.831760Z",
     "shell.execute_reply": "2023-05-19T13:52:33.830628Z",
     "shell.execute_reply.started": "2023-05-19T13:52:33.767619Z"
    },
    "scrolled": true
   },
   "outputs": [],
   "source": [
    "tdcsfog =  pd.read_csv(main_path + '/raw/tdcsfog_metadata.csv')\n",
    "meta = tdcsfog\n",
    "meta.info()"
   ]
  },
  {
   "cell_type": "markdown",
   "metadata": {},
   "source": [
    "## c.) Loading subject Data"
   ]
  },
  {
   "cell_type": "code",
   "execution_count": null,
   "metadata": {
    "ExecuteTime": {
     "end_time": "2023-05-28T05:25:41.585691Z",
     "start_time": "2023-05-28T05:25:41.562693Z"
    },
    "execution": {
     "iopub.execute_input": "2023-05-19T13:52:33.835196Z",
     "iopub.status.busy": "2023-05-19T13:52:33.834382Z",
     "iopub.status.idle": "2023-05-19T13:52:33.857291Z",
     "shell.execute_reply": "2023-05-19T13:52:33.856388Z",
     "shell.execute_reply.started": "2023-05-19T13:52:33.835160Z"
    }
   },
   "outputs": [],
   "source": [
    "subject = pd.read_csv(main_path + '/raw/subjects.csv')\n",
    "subject.info()"
   ]
  },
  {
   "cell_type": "code",
   "execution_count": null,
   "metadata": {
    "ExecuteTime": {
     "end_time": "2023-05-28T05:25:41.758720Z",
     "start_time": "2023-05-28T05:25:41.748724Z"
    },
    "execution": {
     "iopub.execute_input": "2023-05-19T13:52:33.859023Z",
     "iopub.status.busy": "2023-05-19T13:52:33.858685Z",
     "iopub.status.idle": "2023-05-19T13:52:33.874405Z",
     "shell.execute_reply": "2023-05-19T13:52:33.873247Z",
     "shell.execute_reply.started": "2023-05-19T13:52:33.858991Z"
    }
   },
   "outputs": [],
   "source": [
    "subject = subject.fillna(0)\n",
    "subject.info()"
   ]
  },
  {
   "cell_type": "markdown",
   "metadata": {},
   "source": [
    "## d.) Loading event Data"
   ]
  },
  {
   "cell_type": "code",
   "execution_count": null,
   "metadata": {
    "ExecuteTime": {
     "end_time": "2023-05-28T05:25:42.106124Z",
     "start_time": "2023-05-28T05:25:42.084124Z"
    },
    "execution": {
     "iopub.execute_input": "2023-05-19T13:52:33.876695Z",
     "iopub.status.busy": "2023-05-19T13:52:33.876287Z",
     "iopub.status.idle": "2023-05-19T13:52:33.900631Z",
     "shell.execute_reply": "2023-05-19T13:52:33.899747Z",
     "shell.execute_reply.started": "2023-05-19T13:52:33.876666Z"
    }
   },
   "outputs": [],
   "source": [
    "events = pd.read_csv(main_path + '/raw/events.csv')\n",
    "events.info()"
   ]
  },
  {
   "cell_type": "code",
   "execution_count": null,
   "metadata": {
    "ExecuteTime": {
     "end_time": "2023-05-28T05:25:42.277991Z",
     "start_time": "2023-05-28T05:25:42.260997Z"
    },
    "execution": {
     "iopub.execute_input": "2023-05-19T13:52:33.903714Z",
     "iopub.status.busy": "2023-05-19T13:52:33.901917Z",
     "iopub.status.idle": "2023-05-19T13:52:33.921475Z",
     "shell.execute_reply": "2023-05-19T13:52:33.920333Z",
     "shell.execute_reply.started": "2023-05-19T13:52:33.903682Z"
    }
   },
   "outputs": [],
   "source": [
    "events[\"Event_Duration\"] = events[\"Completion\"] - events[\"Init\"]\n",
    "events = events.dropna()\n",
    "events.info()"
   ]
  },
  {
   "cell_type": "markdown",
   "metadata": {},
   "source": [
    "## e.) Data Merging"
   ]
  },
  {
   "cell_type": "code",
   "execution_count": null,
   "metadata": {
    "ExecuteTime": {
     "end_time": "2023-05-28T05:25:42.644244Z",
     "start_time": "2023-05-28T05:25:42.628241Z"
    },
    "execution": {
     "iopub.execute_input": "2023-05-19T13:52:33.923411Z",
     "iopub.status.busy": "2023-05-19T13:52:33.923080Z",
     "iopub.status.idle": "2023-05-19T13:52:33.957255Z",
     "shell.execute_reply": "2023-05-19T13:52:33.956355Z",
     "shell.execute_reply.started": "2023-05-19T13:52:33.923382Z"
    }
   },
   "outputs": [],
   "source": [
    "meta = pd.merge(meta, subject, how='inner', on='Subject')\n",
    "meta.head()"
   ]
  },
  {
   "cell_type": "code",
   "execution_count": null,
   "metadata": {
    "ExecuteTime": {
     "end_time": "2023-05-28T05:25:42.848990Z",
     "start_time": "2023-05-28T05:25:42.821991Z"
    },
    "execution": {
     "iopub.execute_input": "2023-05-19T13:52:33.958875Z",
     "iopub.status.busy": "2023-05-19T13:52:33.958558Z",
     "iopub.status.idle": "2023-05-19T13:52:33.991682Z",
     "shell.execute_reply": "2023-05-19T13:52:33.990515Z",
     "shell.execute_reply.started": "2023-05-19T13:52:33.958845Z"
    }
   },
   "outputs": [],
   "source": [
    "meta = pd.merge(meta, events, how='inner', on='Id')\n",
    "meta = meta.sort_values(['Id', 'Init'], ignore_index=True)\n",
    "meta.head()"
   ]
  },
  {
   "cell_type": "code",
   "execution_count": null,
   "metadata": {
    "scrolled": true
   },
   "outputs": [],
   "source": [
    "sns.pairplot(data=meta, hue='Type', height=3)\n",
    "plt.show()\n",
    "meta.head()"
   ]
  },
  {
   "cell_type": "code",
   "execution_count": null,
   "metadata": {
    "scrolled": true
   },
   "outputs": [],
   "source": [
    "processed_tdcsfog_meta = meta.loc[meta.Kinetic == 0].sort_values(['YearsSinceDx', 'Age', 'UPDRSIII_On']).reset_index(drop=True)\n",
    "sns.pairplot(data=kinetic_0_meta, hue='Type', height=3)\n",
    "plt.show()\n",
    "processed_tdcsfog_meta.head()"
   ]
  },
  {
   "cell_type": "code",
   "execution_count": null,
   "metadata": {},
   "outputs": [],
   "source": [
    "processed_tdcsfog_meta.to_csv(main_path+'/processed/processed_tdcsfog_metadata.csv')"
   ]
  }
 ],
 "metadata": {
  "kernelspec": {
   "display_name": "Python 3",
   "language": "python",
   "name": "python3"
  },
  "language_info": {
   "codemirror_mode": {
    "name": "ipython",
    "version": 3
   },
   "file_extension": ".py",
   "mimetype": "text/x-python",
   "name": "python",
   "nbconvert_exporter": "python",
   "pygments_lexer": "ipython3",
   "version": "3.9.16"
  }
 },
 "nbformat": 4,
 "nbformat_minor": 4
}
